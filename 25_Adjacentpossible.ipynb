{
 "cells": [
  {
   "cell_type": "code",
   "execution_count": 30,
   "id": "bc869ab3",
   "metadata": {
    "ExecuteTime": {
     "end_time": "2024-02-05T14:08:35.259880Z",
     "start_time": "2024-02-05T14:08:31.526308Z"
    }
   },
   "outputs": [
    {
     "name": "stdout",
     "output_type": "stream",
     "text": [
      "Requirement already satisfied: python-dotenv in /Users/leonarddavid/opt/anaconda3/lib/python3.9/site-packages (1.0.0)\n",
      "Requirement already satisfied: openai in /Users/leonarddavid/opt/anaconda3/lib/python3.9/site-packages (1.8.0)\n",
      "Requirement already satisfied: anyio<5,>=3.5.0 in /Users/leonarddavid/opt/anaconda3/lib/python3.9/site-packages (from openai) (3.5.0)\n",
      "Requirement already satisfied: pydantic<3,>=1.9.0 in /Users/leonarddavid/opt/anaconda3/lib/python3.9/site-packages (from openai) (2.5.3)\n",
      "Requirement already satisfied: sniffio in /Users/leonarddavid/opt/anaconda3/lib/python3.9/site-packages (from openai) (1.2.0)\n",
      "Requirement already satisfied: distro<2,>=1.7.0 in /Users/leonarddavid/opt/anaconda3/lib/python3.9/site-packages (from openai) (1.9.0)\n",
      "Requirement already satisfied: typing-extensions<5,>=4.7 in /Users/leonarddavid/opt/anaconda3/lib/python3.9/site-packages (from openai) (4.9.0)\n",
      "Requirement already satisfied: tqdm>4 in /Users/leonarddavid/opt/anaconda3/lib/python3.9/site-packages (from openai) (4.64.1)\n",
      "Requirement already satisfied: httpx<1,>=0.23.0 in /Users/leonarddavid/opt/anaconda3/lib/python3.9/site-packages (from openai) (0.26.0)\n",
      "Requirement already satisfied: idna>=2.8 in /Users/leonarddavid/opt/anaconda3/lib/python3.9/site-packages (from anyio<5,>=3.5.0->openai) (3.3)\n",
      "Requirement already satisfied: httpcore==1.* in /Users/leonarddavid/opt/anaconda3/lib/python3.9/site-packages (from httpx<1,>=0.23.0->openai) (1.0.2)\n",
      "Requirement already satisfied: certifi in /Users/leonarddavid/opt/anaconda3/lib/python3.9/site-packages (from httpx<1,>=0.23.0->openai) (2022.9.24)\n",
      "Requirement already satisfied: h11<0.15,>=0.13 in /Users/leonarddavid/opt/anaconda3/lib/python3.9/site-packages (from httpcore==1.*->httpx<1,>=0.23.0->openai) (0.14.0)\n",
      "Requirement already satisfied: annotated-types>=0.4.0 in /Users/leonarddavid/opt/anaconda3/lib/python3.9/site-packages (from pydantic<3,>=1.9.0->openai) (0.6.0)\n",
      "Requirement already satisfied: pydantic-core==2.14.6 in /Users/leonarddavid/opt/anaconda3/lib/python3.9/site-packages (from pydantic<3,>=1.9.0->openai) (2.14.6)\n"
     ]
    }
   ],
   "source": [
    "!pip install python-dotenv\n",
    "!pip install openai"
   ]
  },
  {
   "cell_type": "markdown",
   "id": "eeb91447",
   "metadata": {},
   "source": [
    "# Getting data from Mergeflow's API"
   ]
  },
  {
   "cell_type": "code",
   "execution_count": 35,
   "id": "31aea093",
   "metadata": {
    "ExecuteTime": {
     "end_time": "2024-02-05T14:15:52.854335Z",
     "start_time": "2024-02-05T14:15:50.663078Z"
    }
   },
   "outputs": [
    {
     "name": "stdout",
     "output_type": "stream",
     "text": [
      "Found 3 documents.\n"
     ]
    }
   ],
   "source": [
    "import requests\n",
    "import json\n",
    "import os\n",
    "from dotenv import load_dotenv\n",
    "\n",
    "load_dotenv()  # Load variables from .env file\n",
    "mergeflow_api_key = os.getenv('MERGEFLOW_API_KEY')\n",
    "\n",
    "# the API call\n",
    "query = 'factory automation' # topic is \"factory automation\"\n",
    "dataset = '&sp=3814' # dataset: industry news\n",
    "rows = str(3) # first 3 docs only\n",
    "\n",
    "# in the url below, replace \"fw\" by your user name. You can see your user name at mergeflow.net\n",
    "# -> Account -> the string in angle brackets\n",
    "url = 'https://mergeflow.net/api/v1/leonard/search/getContent?q=' + query + dataset + '&rows=' + rows\n",
    "\n",
    "# Define the headers to be sent with the request\n",
    "headers = {\n",
    "    'MergeflowNet-Api-Auth-Key': mergeflow_api_key\n",
    "}\n",
    "\n",
    "# Get and print the response\n",
    "response = requests.post(url, headers=headers)\n",
    "\n",
    "mergeflow_docs = []\n",
    "\n",
    "# Check the response status code and content\n",
    "if response.status_code == 200:\n",
    "    mergeflow_response_json = response.json()\n",
    "    \n",
    "    #pretty-print the JSON response -- useful to understand what the JSON looks like\n",
    "    #pretty_json = json.dumps(mergeflow_response_json, indent=4)\n",
    "    #print(pretty_json)\n",
    "    \n",
    "    # get title, URL, date, and content\n",
    "    for document in mergeflow_response_json['Documents']:\n",
    "        current_doc = {\n",
    "            'title': document['Title'],\n",
    "            'date': document['Date'],\n",
    "            'url': document['Url'],\n",
    "            'content': document['Content'][:5000]\n",
    "        }\n",
    "        \n",
    "        mergeflow_docs.append(current_doc)\n",
    "        #print(content)        \n",
    "\n",
    "    print('Found ' + str(len(mergeflow_docs)) + ' documents.')\n",
    "\n",
    "else:\n",
    "    print('Request failed with status code:', response.status_code)\n",
    "    print(response.text)  # Print the response text\n"
   ]
  },
  {
   "cell_type": "markdown",
   "id": "8be09112",
   "metadata": {},
   "source": [
    "# Answering questions on the results with OpenAI GPT"
   ]
  },
  {
   "cell_type": "code",
   "execution_count": 44,
   "id": "8e00c882",
   "metadata": {
    "ExecuteTime": {
     "end_time": "2024-02-05T14:44:09.081451Z",
     "start_time": "2024-02-05T14:43:32.464859Z"
    },
    "scrolled": false
   },
   "outputs": [
    {
     "name": "stdout",
     "output_type": "stream",
     "text": [
      "ChatCompletionMessage(content='Technological Advancements:\\nOne recent technological development that has opened new opportunities for innovation in factory automation is the advancement of Internet of Things (IoT) devices and connectivity. IoT devices can now be integrated into various factory processes, allowing for real-time monitoring, data collection, and remote control. This technology enables automation systems to gather and analyze data from different machines and sensors, leading to improved efficiency, predictive maintenance, and optimized production processes.\\n\\nConsumer Behavior Shifts:\\nConsumer preferences and behaviors have evolved to prioritize sustainability and environmental responsibility. This shift implies a potential future need for factory automation solutions that not only improve efficiency and productivity but also reduce energy consumption, waste, and carbon emissions. Manufacturers will increasingly seek automation technologies that align with their sustainability goals and allow them to operate in an environmentally friendly manner.\\n\\nRegulatory Changes:\\nRegulatory changes, such as stricter safety and environmental regulations, can create new opportunities and necessitate innovations in factory automation. For example, regulations mandating the reduction of workplace accidents and emissions may require the implementation of advanced safety and monitoring systems in factories. This could lead to the development of innovative automation solutions that enhance worker safety and environmental compliance.\\n\\nCross-industry Inspiration:\\nOne cross-industry inspiration that can be adapted to factory automation is the use of artificial intelligence (AI) and machine learning algorithms in predictive maintenance. In industries like aerospace and energy, AI algorithms analyze sensor data to detect patterns and predict equipment failures, allowing for proactive maintenance and reducing downtime. This concept can be extended to factory automation, where AI algorithms can analyze real-time data from machines and predict maintenance needs, optimizing production schedules and reducing costly breakdowns.\\n\\nProposed Problem and Business Opportunity:\\nProblem: Current factory automation systems lack a comprehensive and user-friendly interface for monitoring and managing multiple automated processes across different production lines. This leads to inefficiencies, increased training requirements, and potential human errors.\\n\\nBusiness Opportunity: Develop an intuitive and centralized automation management platform that integrates with existing factory automation systems. This platform should provide a user-friendly interface for monitoring and controlling various automated processes, allowing operators to easily switch between different production lines and access real-time data and analytics. By streamlining the management of automation systems, this solution would improve efficiency, reduce errors, and enable better decision-making.\\n\\nRationale: This business opportunity builds on existing technological advancements in IoT and factory automation systems. It leverages the capabilities of IoT devices to gather real-time data from different machines and sensors, while also addressing the need for improved user interfaces and centralized control. By focusing on enhancing the usability and efficiency of existing automation systems, this opportunity represents a feasible next step that aligns with the concept of the adjacent possible.\\n\\nRating: 3 - This opportunity addresses a current gap in factory automation and has the potential to significantly improve efficiency and productivity. It builds on existing technological capabilities and can be achieved with incremental advancements in interface design and integration with existing systems.', role='assistant', function_call=None, tool_calls=None)\n",
      "ChatCompletionMessage(content='Based on the provided text and the concept of the adjacent possible, here are some potential opportunities for innovation in factory automation:\\n\\n1. Problem: Lack of efficient and sustainable energy management in factory automation.\\n   Business Opportunity: Develop an AI-based energy management system that optimizes energy usage in factories, reducing costs and environmental impact.\\n   Rationale: Recent advancements in AI and data analytics can enable real-time monitoring and optimization of energy consumption in factories. This aligns with the focus on Sense&Act and the potential for AI as a product. The market need for sustainable solutions and cost savings make this opportunity promising. (Score: 3)\\n\\n2. Problem: Inefficient material handling and logistics in factory automation.\\n   Business Opportunity: Create a robotic material handling and logistics solution that integrates with existing factory automation systems, improving efficiency and reducing errors.\\n   Rationale: The increasing complexity and scale of manufacturing operations demand advanced material handling solutions. This opportunity builds on existing technologies like robotics and PLCs, aligning with the core business focus. The need for streamlined operations and cost optimization make this opportunity attractive. (Score: 3)\\n\\n3. Problem: Lack of real-time quality control and defect detection in factory automation.\\n   Business Opportunity: Develop an AI-powered vision inspection system that can detect defects and ensure quality control in real-time during the manufacturing process.\\n   Rationale: Advances in AI and computer vision technology enable the development of robust defect detection systems. This opportunity aligns with the focus on product scalability and the potential for AI as a product. The need for improved quality control and reduced waste makes this opportunity compelling. (Score: 3)\\n\\n4. Problem: Limited visibility and predictive maintenance in factory automation.\\n   Business Opportunity: Create an IoT-based predictive maintenance platform that provides real-time monitoring and predictive analytics for factory equipment.\\n   Rationale: The Internet of Things (IoT) enables connectivity and data collection from various devices in the factory. This opportunity aligns with the focus on product scalability and the aim for non-cannibalizing, fringe markets. The need for proactive maintenance and reduced downtime drives the demand for this solution. (Score: 2)\\n\\n5. Problem: Inadequate worker safety measures in factory automation.\\n   Business Opportunity: Develop wearable IoT devices and AI-powered safety systems that monitor worker conditions and provide real-time alerts and assistance.\\n   Rationale: The combination of IoT, AI, and wearable technology allows for continuous monitoring of worker safety. This opportunity aligns with the focus on Sense&Act and the potential for AI as a product. The increasing emphasis on worker safety and compliance make this opportunity relevant. (Score: 2)\\n\\nOverall, the proposed opportunities leverage recent technological advancements and address market needs in factory automation. They build on existing conditions and capabilities, representing feasible next steps rather than distant leaps. The scores reflect the potential of each opportunity based on their alignment with the guiding principles and market demand.', role='assistant', function_call=None, tool_calls=None)\n",
      "ChatCompletionMessage(content='Technological Advancements: One recent technological development in factory automation is the integration of semiconductors in humanoid robots. This advancement has contributed to their sensory perception, processing capabilities, and overall functionality. This opens up new opportunities for innovation in improving the performance, precision, and productivity of humanoid robots in various industries such as security, defense, manufacturing, and healthcare.\\n\\nConsumer Behavior Shifts: There is an increasing demand for automation in various sectors to cut labor costs, maximize yield, and reduce errors. Consumers are looking for more efficient and automated solutions that can improve productivity and streamline processes. This implies a potential future need for advanced automation technologies in factories to meet the growing consumer expectations.\\n\\nRegulatory Changes: There are no specific regulatory changes mentioned in the provided text that would create new opportunities or necessitate innovations in factory automation.\\n\\nCross-industry Inspiration: The use of mobile robots in retail settings to meet and greet clients, as well as in banks for deposit and withdrawal services, can be adapted or extended to fit the context of factory automation. This cross-industry inspiration suggests the possibility of using robots in factories for tasks such as customer service, delivery of materials, and assistance to human workers.\\n\\nProposed Problem and Business Opportunity: One problem that aligns with the concept of the adjacent possible in factory automation is the need for more versatile and human-like robots (humanoids) that can perform complex tasks in a factory environment. While current robotic arms can do repeated tasks, there is a gap in the market for humanoids that can emulate what humans can do, such as cooking, cleaning, and performing household chores.\\n\\nThis business opportunity builds on the existing technological advancements in humanoid robots and the increasing demand for automation in factories. By developing more advanced humanoids that can perform a wider range of tasks, factories can further increase productivity and efficiency. This opportunity represents a feasible next step as it taps into the untapped potential of humanoid robots in factory automation, addressing the need for more versatile automation solutions.\\n\\nRating: I would rate this opportunity with a score of 2. It is a promising idea that builds on existing conditions and capabilities in factory automation. While the technology for humanoid robots already exists, there is room for further innovation and improvement to create more advanced and versatile humanoids for factory automation.', role='assistant', function_call=None, tool_calls=None)\n"
     ]
    }
   ],
   "source": [
    "import openai\n",
    "\n",
    "openai.api_key = os.getenv('OPENAI_API_KEY')\n",
    "\n",
    "system_prompt = f\"\"\"\n",
    "\n",
    "You are Senior Vice President Technology and Innovation & CTO of Factory Automation. When you evaluate a new business idea, you strictly adhere to the following guiding principles:\n",
    "        - Focus on Sense&Act.\n",
    "        - Prioritize quick, low-investment idea testing.\n",
    "        - Aim for large profits with smaller budgets, avoiding investments over 10-15 million per portfolio element.\n",
    "        - Target a minimum 10 million EUR annual revenue.\n",
    "        - Specialize in LLMs in Engineering and Operations.\n",
    "        - Avoid new ecosystem creation.\n",
    "        - Core business: Sense&Act, PMA, Scada, PLCs.\n",
    "        - Prioritize product over solution business for scalability.\n",
    "        - Consider AI as a potential product.\n",
    "        - Ensure all initiatives align with business profitability.\n",
    "        - Make investment decisions as if using personal funds.\n",
    "        - Aim for non-cannibalizing, fringe markets.\n",
    "        - PLCs are scalable; seek similar scalability in AI applications.\n",
    "        - Validate ideas with business units and customer feedback.\n",
    "        - Avoid focusing solely on infrastructure to ensure profitable outcomes.\n",
    "        \n",
    "        \"\"\"\n",
    "\n",
    "for doc in mergeflow_docs:\n",
    "    user_prompt = f\"\"\"\n",
    "    Consider the text below, delimited by ```, in the area of {query}:\n",
    "    ```\n",
    "    {doc['content']}\n",
    "    ```\n",
    "        I'm interested in exploring problems that will occur in factory automation using the concept of the adjacent possible, as outlined by Stuart Kauffman and popularized by Steven Johnson. This approach emphasizes incremental innovation by considering what's just beyond the current technological, cultural, or conceptual boundaries, yet still achievable with existing resources or slight advancements. I'm looking for ideas that are not far-fetched but are innovative problems that could occur as a result of what currently exists, tapping into the untapped potential lying just outside the present scope of our industry.\n",
    "\n",
    "        Given this framework, please analyze the current trends, technologies, consumer behaviors, and market needs in factory automation. Identify where there might be gaps or unmet needs that align with the concept of the adjacent possible. Consider the following:\n",
    "\n",
    "            Technological Advancements: What recent technological developments have occurred, and how might they open new opportunities for innovation or improvement in factory automation?\n",
    "            Consumer Behavior Shifts: How have consumer preferences and behaviors evolved recently, and what does this imply about potential future needs or desires?\n",
    "            Regulatory Changes: Are there any recent or upcoming changes in regulations that might create new opportunities or necessitate innovations in factory automation?\n",
    "            Cross-industry Inspiration: Look at how other industries are innovating. Are there any ideas or technologies that could be adapted or extended to fit the context of factory automation?\n",
    "\n",
    "        Your task is to synthesize this information and propose one problem and resulting business opportunity that align with the concept of the adjacent possible. Each opportunity should be described with an explanation of how it builds on existing conditions or capabilities and represents a feasible next step rather than a distant leap. Please provide a rationale for why each opportunity is both innovative and achievable, considering the current landscape of factory automation.\n",
    "        Rate each idea from 1 to 3, with three being the most promising, and justify the score\n",
    "    \n",
    "    \"\"\"\n",
    "    \n",
    "    completion = openai.chat.completions.create(\n",
    "        model=\"gpt-3.5-turbo-0613\",\n",
    "        messages=[\n",
    "            {\"role\": \"system\", \"content\": system_prompt},\n",
    "            {\"role\": \"user\", \"content\": user_prompt}\n",
    "        ],\n",
    "        temperature=0.7,\n",
    "        max_tokens=2000,\n",
    "        top_p=0.95,\n",
    "        frequency_penalty=0,\n",
    "        presence_penalty=0,\n",
    "        stop=None\n",
    "    )\n",
    "\n",
    "    print(completion.choices[0].message)\n",
    "    "
   ]
  }
 ],
 "metadata": {
  "kernelspec": {
   "display_name": "Python 3 (ipykernel)",
   "language": "python",
   "name": "python3"
  },
  "language_info": {
   "codemirror_mode": {
    "name": "ipython",
    "version": 3
   },
   "file_extension": ".py",
   "mimetype": "text/x-python",
   "name": "python",
   "nbconvert_exporter": "python",
   "pygments_lexer": "ipython3",
   "version": "3.9.13"
  },
  "toc": {
   "base_numbering": 1,
   "nav_menu": {},
   "number_sections": true,
   "sideBar": true,
   "skip_h1_title": false,
   "title_cell": "Table of Contents",
   "title_sidebar": "Contents",
   "toc_cell": false,
   "toc_position": {},
   "toc_section_display": true,
   "toc_window_display": false
  }
 },
 "nbformat": 4,
 "nbformat_minor": 5
}
