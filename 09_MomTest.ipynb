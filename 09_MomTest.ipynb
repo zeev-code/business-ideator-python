{
 "cells": [
  {
   "cell_type": "code",
   "execution_count": 1,
   "id": "bc869ab3",
   "metadata": {},
   "outputs": [
    {
     "name": "stdout",
     "output_type": "stream",
     "text": [
      "Requirement already satisfied: python-dotenv in /Users/johannesluetzenrath/anaconda3/lib/python3.11/site-packages (0.21.0)\n",
      "Requirement already satisfied: openai in /Users/johannesluetzenrath/anaconda3/lib/python3.11/site-packages (1.8.0)\n",
      "Requirement already satisfied: anyio<5,>=3.5.0 in /Users/johannesluetzenrath/anaconda3/lib/python3.11/site-packages (from openai) (3.5.0)\n",
      "Requirement already satisfied: distro<2,>=1.7.0 in /Users/johannesluetzenrath/anaconda3/lib/python3.11/site-packages (from openai) (1.9.0)\n",
      "Requirement already satisfied: httpx<1,>=0.23.0 in /Users/johannesluetzenrath/anaconda3/lib/python3.11/site-packages (from openai) (0.26.0)\n",
      "Requirement already satisfied: pydantic<3,>=1.9.0 in /Users/johannesluetzenrath/anaconda3/lib/python3.11/site-packages (from openai) (1.10.8)\n",
      "Requirement already satisfied: sniffio in /Users/johannesluetzenrath/anaconda3/lib/python3.11/site-packages (from openai) (1.2.0)\n",
      "Requirement already satisfied: tqdm>4 in /Users/johannesluetzenrath/anaconda3/lib/python3.11/site-packages (from openai) (4.65.0)\n",
      "Requirement already satisfied: typing-extensions<5,>=4.7 in /Users/johannesluetzenrath/anaconda3/lib/python3.11/site-packages (from openai) (4.7.1)\n",
      "Requirement already satisfied: idna>=2.8 in /Users/johannesluetzenrath/anaconda3/lib/python3.11/site-packages (from anyio<5,>=3.5.0->openai) (3.4)\n",
      "Requirement already satisfied: certifi in /Users/johannesluetzenrath/anaconda3/lib/python3.11/site-packages (from httpx<1,>=0.23.0->openai) (2023.11.17)\n",
      "Requirement already satisfied: httpcore==1.* in /Users/johannesluetzenrath/anaconda3/lib/python3.11/site-packages (from httpx<1,>=0.23.0->openai) (1.0.2)\n",
      "Requirement already satisfied: h11<0.15,>=0.13 in /Users/johannesluetzenrath/anaconda3/lib/python3.11/site-packages (from httpcore==1.*->httpx<1,>=0.23.0->openai) (0.14.0)\n"
     ]
    }
   ],
   "source": [
    "!pip install python-dotenv\n",
    "!pip install openai"
   ]
  },
  {
   "cell_type": "markdown",
   "id": "eeb91447",
   "metadata": {},
   "source": [
    "# Getting data from Mergeflow's API"
   ]
  },
  {
   "cell_type": "code",
   "execution_count": 2,
   "id": "31aea093",
   "metadata": {},
   "outputs": [
    {
     "name": "stdout",
     "output_type": "stream",
     "text": [
      "Found 3 documents.\n"
     ]
    }
   ],
   "source": [
    "import requests\n",
    "import json\n",
    "import os\n",
    "from dotenv import load_dotenv\n",
    "\n",
    "load_dotenv()  # Load variables from .env file\n",
    "mergeflow_api_key = os.getenv('MERGEFLOW_API_KEY')\n",
    "\n",
    "# the API call\n",
    "query = 'Factory+Automation' # topic is \"large language model\"\n",
    "dataset = '&q=*[MarketSize]' # dataset: Tech blogs\n",
    "rows = str(3) # first 3 docs only\n",
    "\n",
    "# in the url below, replace \"fw\" by your user name. You can see your user name at mergeflow.net\n",
    "# -> Account -> the string in angle brackets\n",
    "url = 'https://mergeflow.net/api/v1/lutzenrath/search/getContent?q=' + query + dataset + '&rows=' + rows\n",
    "\n",
    "# Define the headers to be sent with the request\n",
    "headers = {\n",
    "    'MergeflowNet-Api-Auth-Key': mergeflow_api_key\n",
    "}\n",
    "\n",
    "# Get and print the response\n",
    "response = requests.post(url, headers=headers)\n",
    "\n",
    "mergeflow_docs = []\n",
    "\n",
    "# Check the response status code and content\n",
    "if response.status_code == 200:\n",
    "    mergeflow_response_json = response.json()\n",
    "    \n",
    "    # Pretty-print the JSON response -- useful to understand what the JSON looks like\n",
    "    #pretty_json = json.dumps(mergeflow_response_json, indent=4)\n",
    "    #print(pretty_json)\n",
    "    \n",
    "    # get title, URL, date, and content\n",
    "    for document in mergeflow_response_json['Documents']:\n",
    "        current_doc = {\n",
    "            'title': document['Title'],\n",
    "            'date': document['Date'],\n",
    "            'url': document['Url'],\n",
    "            'content': document['Content'][:5000]\n",
    "        }\n",
    "        \n",
    "        mergeflow_docs.append(current_doc)\n",
    "        #print(current_doc['content'])        \n",
    "\n",
    "    print('Found ' + str(len(mergeflow_docs)) + ' documents.')\n",
    "\n",
    "else:\n",
    "    print('Request failed with status code:', response.status_code)\n",
    "    print(response.text)  # Print the response text\n"
   ]
  },
  {
   "cell_type": "markdown",
   "id": "8be09112",
   "metadata": {},
   "source": [
    "# Answering questions on the results with OpenAI GPT"
   ]
  },
  {
   "cell_type": "code",
   "execution_count": 17,
   "id": "8e00c882",
   "metadata": {},
   "outputs": [
    {
     "name": "stdout",
     "output_type": "stream",
     "text": [
      "ChatCompletionMessage(content=\"- Why do you want that?\\nThe user may want to invest in the smart factory market because it is a rapidly evolving industry with a projected growth of USD 191.02 billion by 2030. This indicates that there is a potential for significant returns on investment.\\n\\n- What would that empower you to do?\\nInvesting in the smart factory market could empower the user to gain a competitive advantage by leveraging advancements in digital technologies, automation, and the Industrial Internet of Things (IIoT). It could also enable them to optimize and enhance their manufacturing processes through the use of technologies such as IoT, AI, ML, robotics, and data analytics.\\n\\n- How are you managing without it?\\nWithout investing in the smart factory market, the user may be missing out on the potential benefits and opportunities that come with digitizing and automating their manufacturing facility. They may be relying on traditional manufacturing processes that are not as efficient or optimized.\\n\\n- How would that fit into your day?\\nInvesting in the smart factory market would not necessarily fit into the user's day-to-day activities directly. However, it could have a significant impact on their business operations and overall manufacturing processes. It would require strategic planning, implementation, and management.\\n\\n- Do you think we should push back the launch to add the feature, or is it something we could include at a later date?\\nSince the context of the conversation is about investing in the smart factory market, the question about pushing back the launch or including a feature at a later date may not be applicable. It would be more relevant to discuss the potential benefits and risks of investing in this market.\\n\\n- See how these questions lead the user to give more detailed feedback, which in turn creates more powerful research data for you?\\nThese questions lead the user to provide more detailed feedback by focusing on their motivations, goals, current challenges, and potential opportunities. By understanding the user's perspective and needs, it becomes easier to gather valuable research data that can inform decision-making and strategy in relation to investing in the smart factory market.\", role='assistant', function_call=None, tool_calls=None)\n",
      "- Why do you want that?\n",
      "The user may want to invest in the smart factory market because it is a rapidly evolving industry with a projected growth of USD 191.02 billion by 2030. This indicates that there is a potential for significant returns on investment.\n",
      "\n",
      "- What would that empower you to do?\n",
      "Investing in the smart factory market could empower the user to gain a competitive advantage by leveraging advancements in digital technologies, automation, and the Industrial Internet of Things (IIoT). It could also enable them to optimize and enhance their manufacturing processes through the use of technologies such as IoT, AI, ML, robotics, and data analytics.\n",
      "\n",
      "- How are you managing without it?\n",
      "Without investing in the smart factory market, the user may be missing out on the potential benefits and opportunities that come with digitizing and automating their manufacturing facility. They may be relying on traditional manufacturing processes that are not as efficient or optimized.\n",
      "\n",
      "- How would that fit into your day?\n",
      "Investing in the smart factory market would not necessarily fit into the user's day-to-day activities directly. However, it could have a significant impact on their business operations and overall manufacturing processes. It would require strategic planning, implementation, and management.\n",
      "\n",
      "- Do you think we should push back the launch to add the feature, or is it something we could include at a later date?\n",
      "Since the context of the conversation is about investing in the smart factory market, the question about pushing back the launch or including a feature at a later date may not be applicable. It would be more relevant to discuss the potential benefits and risks of investing in this market.\n",
      "\n",
      "- See how these questions lead the user to give more detailed feedback, which in turn creates more powerful research data for you?\n",
      "These questions lead the user to provide more detailed feedback by focusing on their motivations, goals, current challenges, and potential opportunities. By understanding the user's perspective and needs, it becomes easier to gather valuable research data that can inform decision-making and strategy in relation to investing in the smart factory market.\n",
      "\n",
      "---\n",
      "\n",
      "ChatCompletionMessage(content=\"- Why do you want that?\\n  - The user may want the information from the market analysis and growth projection report in order to understand the current state and future potential of the Industry 4.0 market. This information can help them make informed decisions about investments, partnerships, and strategies in the Factory+Automation sector.\\n\\n- What would that empower you to do?\\n  - Having access to the market analysis and growth projection report can empower the user to identify opportunities for growth and innovation in the Factory+Automation sector. It can help them understand the market trends, competitive landscape, and potential challenges, allowing them to make strategic decisions and investments to stay ahead in the industry.\\n\\n- How are you managing without it?\\n  - Without the market analysis and growth projection report, the user may be relying on limited information and insights about the Industry 4.0 market. They may be making decisions based on anecdotal evidence, incomplete data, or outdated information. This could potentially lead to missed opportunities or ineffective strategies in the Factory+Automation sector.\\n\\n- How would that fit into your day?\\n  - The user may allocate time in their day to review the market analysis and growth projection report. They could schedule dedicated time to thoroughly analyze the report, extract key insights, and integrate those insights into their decision-making processes. This would involve allocating time for reading, data analysis, and strategic planning.\\n\\n- Do you think we should push back the launch to add the feature, or is it something we could include at a later date?\\n  - Based on the user's feedback and the importance they place on having access to the market analysis and growth projection report, a decision can be made regarding whether to prioritize this feature and potentially delay the launch, or to include it in a later update. The user's perspective on the urgency and significance of this feature can inform the decision-making process.\\n\\n- See how these questions lead the user to give more detailed feedback, which in turn creates more powerful research data for you?\\n  - These questions prompt the user to provide specific insights about their needs, motivations, and expectations regarding the market analysis and growth projection report. By delving into the user's reasons for wanting the feature, the potential impact it would have on their decision-making, and their current challenges without it, more valuable and detailed feedback can be obtained. This allows for more powerful research data that can inform product development, strategy, and decision-making processes.\", role='assistant', function_call=None, tool_calls=None)\n",
      "- Why do you want that?\n",
      "  - The user may want the information from the market analysis and growth projection report in order to understand the current state and future potential of the Industry 4.0 market. This information can help them make informed decisions about investments, partnerships, and strategies in the Factory+Automation sector.\n",
      "\n",
      "- What would that empower you to do?\n",
      "  - Having access to the market analysis and growth projection report can empower the user to identify opportunities for growth and innovation in the Factory+Automation sector. It can help them understand the market trends, competitive landscape, and potential challenges, allowing them to make strategic decisions and investments to stay ahead in the industry.\n",
      "\n",
      "- How are you managing without it?\n",
      "  - Without the market analysis and growth projection report, the user may be relying on limited information and insights about the Industry 4.0 market. They may be making decisions based on anecdotal evidence, incomplete data, or outdated information. This could potentially lead to missed opportunities or ineffective strategies in the Factory+Automation sector.\n",
      "\n",
      "- How would that fit into your day?\n",
      "  - The user may allocate time in their day to review the market analysis and growth projection report. They could schedule dedicated time to thoroughly analyze the report, extract key insights, and integrate those insights into their decision-making processes. This would involve allocating time for reading, data analysis, and strategic planning.\n",
      "\n",
      "- Do you think we should push back the launch to add the feature, or is it something we could include at a later date?\n",
      "  - Based on the user's feedback and the importance they place on having access to the market analysis and growth projection report, a decision can be made regarding whether to prioritize this feature and potentially delay the launch, or to include it in a later update. The user's perspective on the urgency and significance of this feature can inform the decision-making process.\n",
      "\n",
      "- See how these questions lead the user to give more detailed feedback, which in turn creates more powerful research data for you?\n",
      "  - These questions prompt the user to provide specific insights about their needs, motivations, and expectations regarding the market analysis and growth projection report. By delving into the user's reasons for wanting the feature, the potential impact it would have on their decision-making, and their current challenges without it, more valuable and detailed feedback can be obtained. This allows for more powerful research data that can inform product development, strategy, and decision-making processes.\n",
      "\n",
      "---\n",
      "\n",
      "ChatCompletionMessage(content=\"- Why do you want that?\\n- What would that empower you to do?\\n- How are you managing without it?\\n- How would that fit into your day?\\n- Do you think we should push back the launch to add the feature, or is it something we could include at a later date?\\n\\nThese questions lead the user to give more detailed feedback because they focus on the user's needs, challenges, and preferences. By asking why they want a certain feature, it helps uncover the underlying motivation and purpose behind their request. Understanding what the feature would empower them to do provides insights into the specific benefits and outcomes they expect. Asking how they are currently managing without it helps identify any workarounds or alternative solutions they have been using, which can give context to their request. Inquiring about how it would fit into their day helps understand the practicality and usability of the feature in their daily routine. Finally, asking about the timing of including the feature allows for prioritization and decision-making based on user feedback and expectations. Overall, these questions encourage the user to provide more detailed and thoughtful responses, generating more powerful research data.\", role='assistant', function_call=None, tool_calls=None)\n",
      "- Why do you want that?\n",
      "- What would that empower you to do?\n",
      "- How are you managing without it?\n",
      "- How would that fit into your day?\n",
      "- Do you think we should push back the launch to add the feature, or is it something we could include at a later date?\n",
      "\n",
      "These questions lead the user to give more detailed feedback because they focus on the user's needs, challenges, and preferences. By asking why they want a certain feature, it helps uncover the underlying motivation and purpose behind their request. Understanding what the feature would empower them to do provides insights into the specific benefits and outcomes they expect. Asking how they are currently managing without it helps identify any workarounds or alternative solutions they have been using, which can give context to their request. Inquiring about how it would fit into their day helps understand the practicality and usability of the feature in their daily routine. Finally, asking about the timing of including the feature allows for prioritization and decision-making based on user feedback and expectations. Overall, these questions encourage the user to provide more detailed and thoughtful responses, generating more powerful research data.\n",
      "\n",
      "---\n",
      "\n"
     ]
    }
   ],
   "source": [
    "import openai\n",
    "\n",
    "openai.api_key = os.getenv('OPENAI_API_KEY')\n",
    "\n",
    "system_prompt = f\"\"\"\n",
    "You are a partner at a large venture capital firm who has decades of experience in the founding and growing of successful companies. You are currently helping a large corporate partner to find areas for innovation. For this, you utilise the mom-test.\n",
    "\n",
    "The mom-test is a strategy for getting insights out of potential users, even when said potential users may be prone to lying to you. You mom is the example in this strategy: she will say she likes something because it’s you that’s asking.\n",
    "\n",
    "You don’t ask your mom whether she likes your idea for a new cookbook app. You ask her how, when, and why she uses her device, and about her current cookbooks. The question about your idea will likely lead to a false answer, while the questions about her activities (a.k.a Mom Test questions) will give you insight into what she actually likes and wants from a product.\n",
    "\n",
    "In essence, you’re getting to the bottom of what the user actually wants, rather than trying to force your idea down their throat. You’re listening to the user without misinterpreting what they’re saying.\n",
    "\n",
    "When a customer makes a request, get them to explain exactly how and why that would help them.\n",
    "\n",
    "\n",
    "        \"\"\"\n",
    "\n",
    "for doc in mergeflow_docs:\n",
    "    user_prompt = f\"\"\"\n",
    "    Consider the text below, delimited by ```, in the area of {query}:\n",
    "    ```\n",
    "    {doc['content']}\n",
    "    ```\n",
    "    Answer the following mom-test questions:\n",
    "\n",
    "    - Why do you want that?\n",
    "    - What would that empower you to do?\n",
    "    - How are you managing without it?\n",
    "    - How would that fit into your day?\n",
    "    - Do you think we should push back the launch to add the feature, or is it something we could include at a later date?\n",
    "    - See how these questions lead the user to give more detailed feedback, which in turn creates more powerful research data for you?\n",
    "    \n",
    "    \"\"\"\n",
    "    \n",
    "    completion = openai.chat.completions.create(\n",
    "        model=\"gpt-3.5-turbo-0613\",\n",
    "        messages=[\n",
    "            {\"role\": \"system\", \"content\": system_prompt},\n",
    "            {\"role\": \"user\", \"content\": user_prompt}\n",
    "        ],\n",
    "        temperature=0.7,\n",
    "        max_tokens=2000,\n",
    "        top_p=0.95,\n",
    "        frequency_penalty=0,\n",
    "        presence_penalty=0,\n",
    "        stop=None\n",
    "    )\n",
    "\n",
    "    print(completion.choices[0].message)  \n",
    "    print(completion.choices[0].message.content) # This prints the content of the output in a more readable way\n",
    "    print(\"\\n---\\n\")  # This adds a separator between the messages for readability "
   ]
  },
  {
   "cell_type": "code",
   "execution_count": 11,
   "id": "0a124fcb",
   "metadata": {},
   "outputs": [
    {
     "ename": "NameError",
     "evalue": "name 'completions' is not defined",
     "output_type": "error",
     "traceback": [
      "\u001b[0;31m---------------------------------------------------------------------------\u001b[0m",
      "\u001b[0;31mNameError\u001b[0m                                 Traceback (most recent call last)",
      "Cell \u001b[0;32mIn[11], line 1\u001b[0m\n\u001b[0;32m----> 1\u001b[0m \u001b[38;5;28;01mfor\u001b[39;00m completion \u001b[38;5;129;01min\u001b[39;00m completions:\n\u001b[1;32m      2\u001b[0m     \u001b[38;5;28mprint\u001b[39m(completion\u001b[38;5;241m.\u001b[39mchoices[\u001b[38;5;241m0\u001b[39m]\u001b[38;5;241m.\u001b[39mmessage\u001b[38;5;241m.\u001b[39mcontent)\n\u001b[1;32m      3\u001b[0m     \u001b[38;5;28mprint\u001b[39m(\u001b[38;5;124m\"\u001b[39m\u001b[38;5;130;01m\\n\u001b[39;00m\u001b[38;5;124m---\u001b[39m\u001b[38;5;130;01m\\n\u001b[39;00m\u001b[38;5;124m\"\u001b[39m)\n",
      "\u001b[0;31mNameError\u001b[0m: name 'completions' is not defined"
     ]
    }
   ],
   "source": [
    "\n"
   ]
  }
 ],
 "metadata": {
  "kernelspec": {
   "display_name": "Python 3 (ipykernel)",
   "language": "python",
   "name": "python3"
  },
  "language_info": {
   "codemirror_mode": {
    "name": "ipython",
    "version": 3
   },
   "file_extension": ".py",
   "mimetype": "text/x-python",
   "name": "python",
   "nbconvert_exporter": "python",
   "pygments_lexer": "ipython3",
   "version": "3.11.5"
  }
 },
 "nbformat": 4,
 "nbformat_minor": 5
}
