{
 "cells": [
  {
   "cell_type": "code",
   "execution_count": 4,
   "id": "bc869ab3",
   "metadata": {},
   "outputs": [
    {
     "name": "stdout",
     "output_type": "stream",
     "text": [
      "Requirement already satisfied: python-dotenv in c:\\users\\jpfan\\miniconda3\\lib\\site-packages (1.0.0)\n",
      "Requirement already satisfied: openai in c:\\users\\jpfan\\miniconda3\\lib\\site-packages (1.8.0)\n",
      "Requirement already satisfied: anyio<5,>=3.5.0 in c:\\users\\jpfan\\miniconda3\\lib\\site-packages (from openai) (4.2.0)\n",
      "Requirement already satisfied: distro<2,>=1.7.0 in c:\\users\\jpfan\\miniconda3\\lib\\site-packages (from openai) (1.8.0)\n",
      "Requirement already satisfied: httpx<1,>=0.23.0 in c:\\users\\jpfan\\miniconda3\\lib\\site-packages (from openai) (0.26.0)\n",
      "Requirement already satisfied: pydantic<3,>=1.9.0 in c:\\users\\jpfan\\miniconda3\\lib\\site-packages (from openai) (2.5.3)\n",
      "Requirement already satisfied: sniffio in c:\\users\\jpfan\\miniconda3\\lib\\site-packages (from openai) (1.3.0)\n",
      "Requirement already satisfied: tqdm>4 in c:\\users\\jpfan\\miniconda3\\lib\\site-packages (from openai) (4.65.0)\n",
      "Requirement already satisfied: typing-extensions<5,>=4.7 in c:\\users\\jpfan\\miniconda3\\lib\\site-packages (from openai) (4.9.0)\n",
      "Requirement already satisfied: idna>=2.8 in c:\\users\\jpfan\\miniconda3\\lib\\site-packages (from anyio<5,>=3.5.0->openai) (3.4)\n",
      "Requirement already satisfied: certifi in c:\\users\\jpfan\\miniconda3\\lib\\site-packages (from httpx<1,>=0.23.0->openai) (2023.11.17)\n",
      "Requirement already satisfied: httpcore==1.* in c:\\users\\jpfan\\miniconda3\\lib\\site-packages (from httpx<1,>=0.23.0->openai) (1.0.2)\n",
      "Requirement already satisfied: h11<0.15,>=0.13 in c:\\users\\jpfan\\miniconda3\\lib\\site-packages (from httpcore==1.*->httpx<1,>=0.23.0->openai) (0.14.0)\n",
      "Requirement already satisfied: annotated-types>=0.4.0 in c:\\users\\jpfan\\miniconda3\\lib\\site-packages (from pydantic<3,>=1.9.0->openai) (0.6.0)\n",
      "Requirement already satisfied: pydantic-core==2.14.6 in c:\\users\\jpfan\\miniconda3\\lib\\site-packages (from pydantic<3,>=1.9.0->openai) (2.14.6)\n",
      "Requirement already satisfied: colorama in c:\\users\\jpfan\\miniconda3\\lib\\site-packages (from tqdm>4->openai) (0.4.6)\n"
     ]
    }
   ],
   "source": [
    "!pip install python-dotenv\n",
    "!pip install openai"
   ]
  },
  {
   "cell_type": "markdown",
   "id": "eeb91447",
   "metadata": {},
   "source": [
    "# Getting data from Mergeflow's API"
   ]
  },
  {
   "cell_type": "code",
   "execution_count": 1,
   "id": "31aea093",
   "metadata": {},
   "outputs": [
    {
     "name": "stdout",
     "output_type": "stream",
     "text": [
      "Found 3 documents.\n"
     ]
    }
   ],
   "source": [
    "import requests\n",
    "import json\n",
    "import os\n",
    "from dotenv import load_dotenv\n",
    "\n",
    "load_dotenv()  # Load variables from .env file\n",
    "mergeflow_api_key = 'xxx'\n",
    "\n",
    "# the API call\n",
    "query = 'large+language+model' # topic is \"large language model\"\n",
    "dataset = '&q=*%5bfundingcompany%7cfundingproject%7cfundingorganization%5d&sp=2572' # dataset: venture capital investments\n",
    "rows = str(3) # first 3 docs only\n",
    "\n",
    "# in the url below, replace \"fw\" by your user name. You can see your user name at mergeflow.net\n",
    "# -> Account -> the string in angle brackets\n",
    "url = 'https://mergeflow.net/api/v1/pfannes/search/getContent?q=' + query + dataset + '&rows=' + rows\n",
    "\n",
    "# Define the headers to be sent with the request\n",
    "headers = {\n",
    "    'MergeflowNet-Api-Auth-Key': mergeflow_api_key\n",
    "}\n",
    "\n",
    "# Get and print the response\n",
    "response = requests.post(url, headers=headers)\n",
    "\n",
    "mergeflow_docs = []\n",
    "\n",
    "# Check the response status code and content\n",
    "if response.status_code == 200:\n",
    "    mergeflow_response_json = response.json()\n",
    "    \n",
    "    # Pretty-print the JSON response -- useful to understand what the JSON looks like\n",
    "    #pretty_json = json.dumps(mergeflow_response_json, indent=4)\n",
    "    #print(pretty_json)\n",
    "    \n",
    "    # get title, URL, date, and content\n",
    "    for document in mergeflow_response_json['Documents']:\n",
    "        current_doc = {\n",
    "            'title': document['Title'],\n",
    "            'date': document['Date'],\n",
    "            'url': document['Url'],\n",
    "            'content': document['Content']\n",
    "        }\n",
    "        \n",
    "        mergeflow_docs.append(current_doc)\n",
    "        #print(content)        \n",
    "\n",
    "    print('Found ' + str(len(mergeflow_docs)) + ' documents.')\n",
    "\n",
    "else:\n",
    "    print('Request failed with status code:', response.status_code)\n",
    "    print(response.text)  # Print the response text\n"
   ]
  },
  {
   "cell_type": "markdown",
   "id": "8be09112",
   "metadata": {},
   "source": [
    "# Answering questions on the results with OpenAI GPT"
   ]
  },
  {
   "cell_type": "code",
   "execution_count": 11,
   "id": "8e00c882",
   "metadata": {
    "scrolled": true
   },
   "outputs": [
    {
     "name": "stdout",
     "output_type": "stream",
     "text": [
      "ChatCompletionMessage(content='Solution Idea 1: Dynamic Process Monitoring System\\nDescription: Implement a real-time monitoring system that uses sensors and IoT devices to collect data from various stages of the production process. The system will analyze the data and provide actionable insights to optimize production efficiency, identify bottlenecks, and prevent delays.\\n\\nTRIZ Principle: Principle 35 - Parameter Change\\n\\nSolution Idea 2: Self-Optimizing Production Lines\\nDescription: Develop production lines equipped with AI-powered machine learning algorithms that can continuously analyze and optimize production parameters in real-time. The production lines will automatically adjust settings and configurations to maximize efficiency and reduce delays.\\n\\nTRIZ Principle: Principle 3 - Local Quality\\n\\nSolution Idea 3: Intelligent Production Scheduling\\nDescription: Implement an AI-driven production scheduling system that takes into account real-time data, such as machine availability, resource allocation, and order priorities. The system will optimize the production schedule to minimize idle time, reduce bottlenecks, and ensure timely delivery.\\n\\nTRIZ Principle: Principle 6 - Universality\\n\\nSolution Idea 4: Smart Inventory Management\\nDescription: Utilize AI and predictive analytics to optimize inventory levels based on historical data, demand forecasts, and production schedules. The system will automatically generate replenishment orders, reducing stockouts, minimizing excess inventory, and improving production efficiency.\\n\\nTRIZ Principle: Principle 12 - Equipotentiality\\n\\nSolution Idea 5: Collaborative Robotics in Production\\nDescription: Introduce collaborative robots (cobots) that can work alongside human operators and autonomously perform repetitive or physically demanding tasks. The cobots will be equipped with sensors and AI algorithms to ensure safe and efficient collaboration, improving productivity and reducing delays.\\n\\nTRIZ Principle: Principle 14 - Spheroidality\\n\\nSummary of Solution Ideas:\\n\\n| Solution Idea                  | Description                                                                                                                           |\\n|--------------------------------|---------------------------------------------------------------------------------------------------------------------------------------|\\n| Dynamic Process Monitoring System | Implement a real-time monitoring system that uses sensors and IoT devices to collect data from various stages of the production process. |\\n| Self-Optimizing Production Lines   | Develop production lines equipped with AI-powered machine learning algorithms to continuously optimize production parameters.              |\\n| Intelligent Production Scheduling | Implement an AI-driven production scheduling system that optimizes the production schedule based on real-time data.                      |\\n| Smart Inventory Management        | Utilize AI and predictive analytics to optimize inventory levels and automate replenishment processes.                                   |\\n| Collaborative Robotics in Production | Introduce collaborative robots to work alongside human operators, improving productivity and safety.                                   |\\n\\nIdea Name: Real-Time Production Optimization System\\nDescription: The Real-Time Production Optimization System integrates multiple innovative solutions, including a dynamic process monitoring system, self-optimizing production lines, intelligent production scheduling, smart inventory management, and collaborative robotics. This system provides medium to large-sized manufacturing companies with real-time visibility and control over their production processes, enabling them to optimize efficiency, reduce delays, and improve overall productivity.', role='assistant', function_call=None, tool_calls=None)\n",
      "ChatCompletionMessage(content='Solution Ideas using TRIZ:\\n\\n1. Idea: Real-time Process Monitoring System\\n   Description: Develop a real-time process monitoring system that utilizes sensors and data analytics to provide live updates on production processes. This system will enable manufacturing companies to have complete visibility and control over their operations, allowing them to identify bottlenecks, optimize workflows, and make informed decisions to improve efficiency and meet production deadlines.\\n\\n2. Idea: Intelligent Production Control Algorithm\\n   Description: Create an intelligent production control algorithm that uses artificial intelligence and machine learning techniques to optimize production schedules and resource allocation. This algorithm will analyze real-time data from various sources, such as machine sensors, inventory levels, and customer demand, to dynamically adjust production plans, minimize downtime, and maximize throughput.\\n\\n3. Idea: Collaborative Robotics for Process Automation\\n   Description: Implement collaborative robotics (cobots) in manufacturing processes to automate repetitive and labor-intensive tasks. These cobots will work alongside human operators, enhancing productivity and efficiency while ensuring safety. By offloading mundane tasks to cobots, manufacturing companies can streamline their operations, reduce errors, and free up human resources for more value-added activities.\\n\\n4. Idea: Predictive Maintenance using AI\\n   Description: Develop an AI-powered predictive maintenance system that monitors machine health in real-time and predicts maintenance requirements. By analyzing sensor data and historical maintenance records, this system will identify potential equipment failures before they occur, allowing proactive maintenance actions to be taken. This will minimize unplanned downtime, optimize maintenance schedules, and improve overall equipment effectiveness.\\n\\n5. Idea: Digital Twin Simulation for Production Optimization\\n   Description: Create a digital twin simulation platform that replicates the manufacturing processes in a virtual environment. This platform will enable manufacturers to experiment with different scenarios, test process optimizations, and identify potential bottlenecks or inefficiencies before implementing changes in the actual production line. By using the digital twin, companies can fine-tune their operations, reduce risks, and achieve higher productivity and profitability.\\n\\nSummary of Solution Ideas:\\n\\n| Idea                                      | Description                                                                                                                                                                                                 |\\n|-------------------------------------------|-------------------------------------------------------------------------------------------------------------------------------------------------------------------------------------------------------------|\\n| Real-time Process Monitoring System       | Develop a system that provides real-time visibility and control over production processes, allowing manufacturers to identify bottlenecks, optimize workflows, and make informed decisions for improved efficiency.       |\\n| Intelligent Production Control Algorithm | Create an algorithm that uses AI and ML techniques to optimize production schedules and resource allocation based on real-time data, minimizing downtime and maximizing throughput.                                   |\\n| Collaborative Robotics for Process Automation | Implement cobots to automate repetitive tasks, working alongside human operators to enhance productivity, efficiency, and safety.                                                                            |\\n| Predictive Maintenance using AI           | Develop an AI-powered system that predicts maintenance requirements by analyzing real-time sensor data, minimizing unplanned downtime and optimizing maintenance schedules.                                      |\\n| Digital Twin Simulation for Production Optimization | Create a virtual simulation platform to experiment with different scenarios, optimize processes, and identify potential bottlenecks before implementing changes in the actual production line.              |\\n\\nIdea Name: Real-time Manufacturing Optimization Suite\\nDescription: The Real-time Manufacturing Optimization Suite is a comprehensive solution that combines a real-time process monitoring system, an intelligent production control algorithm, collaborative robotics, predictive maintenance capabilities, and a digital twin simulation platform. This suite provides manufacturing companies with complete visibility and control over their production processes, enabling them to optimize workflows, minimize downtime, and achieve maximum efficiency and profitability.', role='assistant', function_call=None, tool_calls=None)\n",
      "ChatCompletionMessage(content='Solution Idea 1: Idea Name: Real-time Production Monitoring System\\nDescription: Implement a real-time production monitoring system that utilizes sensors, IoT devices, and data analytics to provide manufacturers with real-time visibility and control over their production processes. This system will enable proactive decision-making, identify bottlenecks, optimize resource allocation, and minimize downtime, leading to improved efficiency and reduced costs.\\n\\nSolution Idea 2: Idea Name: Intelligent Production Scheduling Algorithm\\nDescription: Develop an intelligent production scheduling algorithm that uses AI and machine learning techniques to optimize production schedules based on real-time data, customer demands, resource availability, and production constraints. This algorithm will minimize production delays, improve resource utilization, and enhance overall production efficiency.\\n\\nSolution Idea 3: Idea Name: Automated Quality Control System\\nDescription: Create an automated quality control system that integrates computer vision, AI, and machine learning technologies to perform real-time inspection and analysis of production processes and products. This system will detect defects, deviations, and anomalies, enabling manufacturers to take immediate corrective actions, reduce waste, and maintain high-quality standards.\\n\\nSolution Idea 4: Idea Name: Predictive Maintenance Solution\\nDescription: Develop a predictive maintenance solution that leverages IoT, AI, and predictive analytics to monitor equipment health, detect potential failures, and schedule maintenance activities proactively. By preventing unexpected breakdowns and optimizing maintenance schedules, this solution will minimize downtime, improve equipment reliability, and reduce maintenance costs.\\n\\nSolution Idea 5: Idea Name: Intelligent Inventory Management System\\nDescription: Implement an intelligent inventory management system that utilizes AI, data analytics, and predictive algorithms to optimize inventory levels, reduce stockouts, and improve supply chain efficiency. This system will provide real-time visibility into inventory status, demand forecasting, and supplier performance, enabling manufacturers to make data-driven decisions and minimize inventory holding costs.\\n\\nSummary of Innovative Solution Ideas:\\n\\n| Solution Idea                           | Description                                                                                                   |\\n|-----------------------------------------|---------------------------------------------------------------------------------------------------------------|\\n| Real-time Production Monitoring System  | Utilize sensors, IoT devices, and data analytics to provide real-time visibility and control over production processes                                                |\\n| Intelligent Production Scheduling Algorithm | Develop an algorithm that optimizes production schedules based on real-time data, customer demands, and resource constraints                                      |\\n| Automated Quality Control System        | Create a system that uses computer vision and AI to perform real-time inspection and analysis of production processes and products                                      |\\n| Predictive Maintenance Solution         | Develop a solution that leverages IoT and AI to monitor equipment health and schedule maintenance activities proactively                                                |\\n| Intelligent Inventory Management System | Implement a system that uses AI and predictive algorithms to optimize inventory levels and improve supply chain efficiency                                              |\\n\\nIdea Name: SmartFactory Control Hub\\nDescription: Develop a centralized control hub for manufacturing facilities that integrates with existing systems and equipment. The control hub will provide real-time monitoring, control, and optimization of production processes, enabling manufacturers to achieve greater efficiency, reduce costs, and meet production deadlines.', role='assistant', function_call=None, tool_calls=None)\n"
     ]
    }
   ],
   "source": [
    "import openai\n",
    "\n",
    "openai.api_key = 'xxx'\n",
    "\n",
    "system_prompt = f\"\"\"You are Senior Vice President Technology and Innovation & CTO of Factory Automation. When you evaluate a new business idea, you strictly adhere to the following guiding principles:\n",
    "        - Focus on Sense&Act.\n",
    "        - Prioritize quick, low-investment idea testing.\n",
    "        - Aim for large profits with smaller budgets, avoiding investments over 10-15 million per portfolio element.\n",
    "        - Target a minimum 10 million EUR annual revenue.\n",
    "        - Specialize in LLMs in Engineering and Operations.\n",
    "        - Avoid new ecosystem creation.\n",
    "        - Core business: Sense&Act, PMA, Scada, PLCs.\n",
    "        - Prioritize product over solution business for scalability.\n",
    "        - Consider AI as a potential product.\n",
    "        - Find products not already on the market, they have to be new and differenciators\n",
    "        - Ensure all initiatives align with business profitability.\n",
    "        - Make investment decisions as if using personal funds.\n",
    "        - Aim for non-cannibalizing, fringe markets.\n",
    "        - PLCs are scalable; seek similar scalability in AI applications.\n",
    "        - Validate ideas with business units and customer feedback.\n",
    "        - Avoid focusing solely on infrastructure to ensure profitable outcomes.\n",
    "        \"\"\"\n",
    "\n",
    "for doc in mergeflow_docs:\n",
    "    user_prompt = f\"\"\"\n",
    "    Consider the text below, delimited by ```, in the area of {query}:\n",
    "    ```\n",
    "    {doc['content']}\n",
    "    ```\n",
    "    Given Problem: Lack of real-time visibility and control over production processes\n",
    "Pain Point: Manufacturing companies face inefficiency and delays in production due to a lack of real-time visibility and control over their processes, leading to increased costs and missed deadlines.\n",
    "Most Affected Customer: Medium to large-sized manufacturing companies.\n",
    "Reasoning: This problem affects a significant number of customers and can be addressed by providing real-time visibility and control, improving overall efficiency and responsiveness in production processes. \n",
    "\n",
    "Come up with solutions. Use the 40 principles of TRIZ. In the end summarize in a table and give me name of idea with a short description adressing the above problem. Aim for 5 highly innovative solution ideas using TRIZ:\n",
    "    \"\"\"\n",
    "    \n",
    "    completion = openai.chat.completions.create(\n",
    "        model=\"gpt-3.5-turbo-0613\",\n",
    "        messages=[\n",
    "            {\"role\": \"system\", \"content\": system_prompt},\n",
    "            {\"role\": \"user\", \"content\": user_prompt}\n",
    "        ],\n",
    "        temperature=0.7,\n",
    "        max_tokens=2000,\n",
    "        top_p=0.95,\n",
    "        frequency_penalty=0,\n",
    "        presence_penalty=0,\n",
    "        stop=None\n",
    "    )\n",
    "\n",
    "    print(completion.choices[0].message)"
   ]
  },
  {
   "cell_type": "code",
   "execution_count": null,
   "id": "d65eab1d-96fc-4122-b366-9a569befc075",
   "metadata": {},
   "outputs": [],
   "source": []
  }
 ],
 "metadata": {
  "kernelspec": {
   "display_name": "Python 3 (ipykernel)",
   "language": "python",
   "name": "python3"
  },
  "language_info": {
   "codemirror_mode": {
    "name": "ipython",
    "version": 3
   },
   "file_extension": ".py",
   "mimetype": "text/x-python",
   "name": "python",
   "nbconvert_exporter": "python",
   "pygments_lexer": "ipython3",
   "version": "3.11.5"
  }
 },
 "nbformat": 4,
 "nbformat_minor": 5
}
