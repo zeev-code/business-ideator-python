{
 "cells": [
  {
   "cell_type": "code",
   "execution_count": 1,
   "id": "bc869ab3",
   "metadata": {
    "ExecuteTime": {
     "end_time": "2024-02-14T10:06:37.853103Z",
     "start_time": "2024-02-14T10:06:28.303591Z"
    }
   },
   "outputs": [
    {
     "name": "stdout",
     "output_type": "stream",
     "text": [
      "Requirement already satisfied: python-dotenv in /Users/leonarddavid/opt/anaconda3/lib/python3.9/site-packages (1.0.0)\n",
      "Requirement already satisfied: openai in /Users/leonarddavid/opt/anaconda3/lib/python3.9/site-packages (1.8.0)\n",
      "Requirement already satisfied: httpx<1,>=0.23.0 in /Users/leonarddavid/opt/anaconda3/lib/python3.9/site-packages (from openai) (0.26.0)\n",
      "Requirement already satisfied: tqdm>4 in /Users/leonarddavid/opt/anaconda3/lib/python3.9/site-packages (from openai) (4.64.1)\n",
      "Requirement already satisfied: sniffio in /Users/leonarddavid/opt/anaconda3/lib/python3.9/site-packages (from openai) (1.2.0)\n",
      "Requirement already satisfied: anyio<5,>=3.5.0 in /Users/leonarddavid/opt/anaconda3/lib/python3.9/site-packages (from openai) (3.5.0)\n",
      "Requirement already satisfied: distro<2,>=1.7.0 in /Users/leonarddavid/opt/anaconda3/lib/python3.9/site-packages (from openai) (1.9.0)\n",
      "Requirement already satisfied: pydantic<3,>=1.9.0 in /Users/leonarddavid/opt/anaconda3/lib/python3.9/site-packages (from openai) (2.5.3)\n",
      "Requirement already satisfied: typing-extensions<5,>=4.7 in /Users/leonarddavid/opt/anaconda3/lib/python3.9/site-packages (from openai) (4.9.0)\n",
      "Requirement already satisfied: idna>=2.8 in /Users/leonarddavid/opt/anaconda3/lib/python3.9/site-packages (from anyio<5,>=3.5.0->openai) (3.3)\n",
      "Requirement already satisfied: httpcore==1.* in /Users/leonarddavid/opt/anaconda3/lib/python3.9/site-packages (from httpx<1,>=0.23.0->openai) (1.0.2)\n",
      "Requirement already satisfied: certifi in /Users/leonarddavid/opt/anaconda3/lib/python3.9/site-packages (from httpx<1,>=0.23.0->openai) (2022.9.24)\n",
      "Requirement already satisfied: h11<0.15,>=0.13 in /Users/leonarddavid/opt/anaconda3/lib/python3.9/site-packages (from httpcore==1.*->httpx<1,>=0.23.0->openai) (0.14.0)\n",
      "Requirement already satisfied: annotated-types>=0.4.0 in /Users/leonarddavid/opt/anaconda3/lib/python3.9/site-packages (from pydantic<3,>=1.9.0->openai) (0.6.0)\n",
      "Requirement already satisfied: pydantic-core==2.14.6 in /Users/leonarddavid/opt/anaconda3/lib/python3.9/site-packages (from pydantic<3,>=1.9.0->openai) (2.14.6)\n"
     ]
    }
   ],
   "source": [
    "!pip install python-dotenv\n",
    "!pip install openai"
   ]
  },
  {
   "cell_type": "markdown",
   "id": "eeb91447",
   "metadata": {},
   "source": [
    "# Getting data from Mergeflow's API"
   ]
  },
  {
   "cell_type": "code",
   "execution_count": 2,
   "id": "31aea093",
   "metadata": {
    "ExecuteTime": {
     "end_time": "2024-02-14T10:06:42.846701Z",
     "start_time": "2024-02-14T10:06:37.865559Z"
    }
   },
   "outputs": [
    {
     "name": "stdout",
     "output_type": "stream",
     "text": [
      "Found 3 documents.\n"
     ]
    }
   ],
   "source": [
    "import requests\n",
    "import json\n",
    "import os\n",
    "from dotenv import load_dotenv\n",
    "\n",
    "load_dotenv()  # Load variables from .env file\n",
    "mergeflow_api_key = os.getenv('MERGEFLOW_API_KEY')\n",
    "\n",
    "# the API call\n",
    "query = 'factory automation' # topic is \"factory automation\"\n",
    "dataset = '&sp=3814' # dataset: industry news\n",
    "rows = str(3) # first 3 docs only\n",
    "\n",
    "# in the url below, replace \"fw\" by your user name. You can see your user name at mergeflow.net\n",
    "# -> Account -> the string in angle brackets\n",
    "url = 'https://mergeflow.net/api/v1/leonard/search/getContent?q=' + query + dataset + '&rows=' + rows\n",
    "\n",
    "# Define the headers to be sent with the request\n",
    "headers = {\n",
    "    'MergeflowNet-Api-Auth-Key': mergeflow_api_key\n",
    "}\n",
    "\n",
    "# Get and print the response\n",
    "response = requests.post(url, headers=headers)\n",
    "\n",
    "mergeflow_docs = []\n",
    "\n",
    "# Check the response status code and content\n",
    "if response.status_code == 200:\n",
    "    mergeflow_response_json = response.json()\n",
    "    \n",
    "    #pretty-print the JSON response -- useful to understand what the JSON looks like\n",
    "    #pretty_json = json.dumps(mergeflow_response_json, indent=4)\n",
    "    #print(pretty_json)\n",
    "    \n",
    "    # get title, URL, date, and content\n",
    "    for document in mergeflow_response_json['Documents']:\n",
    "        current_doc = {\n",
    "            'title': document['Title'],\n",
    "            'date': document['Date'],\n",
    "            'url': document['Url'],\n",
    "            'content': document['Content'][:5000]\n",
    "        }\n",
    "        \n",
    "        mergeflow_docs.append(current_doc)\n",
    "        #print(content)        \n",
    "\n",
    "    print('Found ' + str(len(mergeflow_docs)) + ' documents.')\n",
    "\n",
    "else:\n",
    "    print('Request failed with status code:', response.status_code)\n",
    "    print(response.text)  # Print the response text\n"
   ]
  },
  {
   "cell_type": "markdown",
   "id": "8be09112",
   "metadata": {},
   "source": [
    "# Answering questions on the results with OpenAI GPT"
   ]
  },
  {
   "cell_type": "code",
   "execution_count": 3,
   "id": "8e00c882",
   "metadata": {
    "ExecuteTime": {
     "end_time": "2024-02-14T10:07:43.548130Z",
     "start_time": "2024-02-14T10:07:00.533168Z"
    },
    "scrolled": false
   },
   "outputs": [
    {
     "name": "stdout",
     "output_type": "stream",
     "text": [
      "ChatCompletionMessage(content='Technological Advancements:\\nOne recent technological development that has the potential to open new opportunities in factory automation is the advancement of edge computing. Edge computing allows for data processing and analysis to occur closer to the source, reducing latency and enabling real-time decision making. This can lead to improved efficiency and responsiveness in factory automation processes.\\n\\nConsumer Behavior Shifts:\\nConsumers are increasingly valuing sustainability and environmentally-friendly practices. This shift in consumer behavior creates an opportunity for innovation in factory automation that focuses on reducing energy consumption, minimizing waste, and optimizing resource usage. There is a growing demand for eco-friendly manufacturing processes and products, and addressing this need can lead to a competitive advantage in the market.\\n\\nRegulatory Changes:\\nRegulations regarding worker safety and labor conditions are continuously evolving. There is a growing emphasis on ensuring the well-being of workers in manufacturing facilities. This presents an opportunity for innovation in factory automation that focuses on improving worker safety, ergonomics, and overall working conditions. Developing technologies and solutions that prioritize the health and safety of workers can help companies comply with regulations and enhance their reputation.\\n\\nCross-industry Inspiration:\\nOne idea that can be adapted from other industries is the use of predictive maintenance. In industries such as aviation and oil and gas, predictive maintenance techniques are employed to detect and address equipment issues before they lead to costly breakdowns or failures. Applying this concept to factory automation can help reduce downtime, optimize maintenance schedules, and improve overall equipment reliability. By leveraging sensor data and advanced analytics, manufacturers can proactively identify potential equipment failures and take preventive actions.\\n\\nProposed Problem and Business Opportunity:\\nProblem: Inefficient energy usage in factory automation leads to high operational costs and environmental impact.\\n\\nBusiness Opportunity: Develop an AI-powered energy management system for factory automation that optimizes energy consumption and reduces waste.\\n\\nRationale:\\nThis opportunity builds on the existing capabilities of factory automation and aligns with the focus on AI as a potential product. By leveraging AI algorithms, real-time data from sensors, and machine learning techniques, the energy management system can analyze and optimize energy usage in various manufacturing processes. It can identify energy-intensive operations, suggest energy-saving measures, and provide insights for continuous improvement. This solution addresses the growing consumer demand for eco-friendly practices and helps manufacturers reduce operational costs. Furthermore, it aligns with the principle of focusing on product over solution business for scalability.\\n\\nScore: 3', role='assistant', function_call=None, tool_calls=None)\n",
      "ChatCompletionMessage(content=\"Based on the guiding principles provided, let's analyze the current trends, technologies, consumer behaviors, and market needs in factory automation to identify potential gaps or unmet needs that align with the concept of the adjacent possible.\\n\\nTechnological Advancements:\\nOne recent technological development in factory automation is the advancement of Industrial Internet of Things (IIoT) and edge computing. These technologies enable real-time data collection, analysis, and decision-making, leading to improved efficiency and productivity. This opens new opportunities for innovation in areas such as predictive maintenance, anomaly detection, and optimization of manufacturing processes.\\n\\nConsumer Behavior Shifts:\\nThere is an increasing demand for customization and personalized products in various industries. Consumers now expect shorter lead times, higher product quality, and the ability to customize their products according to their preferences. This implies a need for flexible and agile manufacturing systems that can quickly adapt to changing consumer demands.\\n\\nRegulatory Changes:\\nRegulatory changes, such as stricter environmental regulations and safety standards, create opportunities for innovations in energy efficiency, waste reduction, and worker safety in factory automation. Companies that can develop solutions that align with these regulations will have a competitive advantage in the market.\\n\\nCross-industry Inspiration:\\nOne idea that could be adapted from other industries is the use of computer vision and artificial intelligence (AI) for quality control and defect detection. Industries like automotive and electronics have been utilizing AI-powered vision systems to detect defects and ensure product quality. This technology can be extended to factory automation to improve the accuracy and efficiency of quality control processes.\\n\\nProposed Problem and Business Opportunity:\\nProblem: Inefficient material handling and logistics processes in factory automation lead to delays, errors, and increased costs.\\nBusiness Opportunity: Develop an AI-powered material handling and logistics system that optimizes the movement of materials within a factory, reducing delays, errors, and costs.\\n\\nRationale: This opportunity builds on the existing capabilities of AI, IIoT, and edge computing, which can collect and analyze real-time data from sensors and machines. By leveraging this technology, the proposed system can intelligently plan and optimize material flow, reducing bottlenecks and improving overall efficiency. The system can also integrate with existing factory automation systems, such as PLCs and SCADA, to ensure seamless integration and scalability. This opportunity aligns with the concept of the adjacent possible as it leverages existing technologies and capabilities to address a specific problem within the factory automation domain.\\n\\nRating: 3 - This opportunity is promising as it addresses a common pain point in factory automation and leverages existing technologies to provide a scalable and efficient solution.\\n\\nOverall, by considering the current landscape of factory automation and identifying gaps or unmet needs that align with the concept of the adjacent possible, we can propose innovative and achievable business opportunities that have the potential for significant impact in the industry.\", role='assistant', function_call=None, tool_calls=None)\n",
      "ChatCompletionMessage(content='Technological Advancements: \\nOne recent technological development in factory automation is the integration of Artificial Intelligence (AI) and Machine Learning (ML) algorithms into automation systems. These AI-powered systems can analyze large amounts of data in real-time, enabling predictive maintenance, optimizing production processes, and improving overall efficiency. This advancement opens up new opportunities for innovation in factory automation by enabling more intelligent and autonomous decision-making.\\n\\nConsumer Behavior Shifts: \\nIn recent years, there has been a growing demand for personalized products and customization in various industries. This shift in consumer behavior implies a potential future need for flexible and agile manufacturing processes in factory automation. Consumers now expect products tailored to their specific preferences, and adapting automation systems to accommodate customization can provide a competitive advantage.\\n\\nRegulatory Changes: \\nRegulatory changes, such as stricter environmental regulations or safety standards, can create opportunities for innovation in factory automation. For example, the need to reduce carbon emissions and improve sustainability may drive the adoption of energy-efficient automation systems or the integration of renewable energy sources into manufacturing processes. Similarly, regulations related to worker safety may necessitate the development of advanced robotics and automation technologies to minimize human involvement in hazardous tasks.\\n\\nCross-industry Inspiration: \\nThe healthcare industry has been leveraging robotics and automation technologies to improve patient care and optimize healthcare processes. These advancements can be adapted and extended to fit the context of factory automation. For instance, collaborative robots (cobots) used in healthcare settings can be employed in factory automation to enhance human-machine interaction and improve productivity. Additionally, quality control systems used in pharmaceutical manufacturing can be adapted for other industries to ensure product quality and compliance.\\n\\nProposed Problem and Business Opportunity: \\nOne problem that aligns with the concept of the adjacent possible in factory automation is the need for real-time optimization of manufacturing processes to reduce waste and improve efficiency. By leveraging AI and ML algorithms, it is possible to analyze various data sources, including production data, sensor data, and environmental data, to identify optimization opportunities and make proactive adjustments to the manufacturing process. This would enable factories to operate at peak efficiency, reduce energy consumption, minimize material waste, and improve overall productivity.\\n\\nRationale: \\nThis opportunity builds on the existing technological advancements in AI and ML, which have already been integrated into factory automation systems. By applying these technologies to real-time optimization, factories can achieve incremental improvements in efficiency and sustainability without requiring major infrastructure changes. The solution aligns with the guiding principles of focusing on Sense&Act, prioritizing quick, low-investment idea testing, and aiming for large profits with smaller budgets. It also aligns with the concept of scalability, as the optimization algorithms can be applied to various industries and manufacturing processes.\\n\\nScore: 3\\nThis opportunity is promising as it addresses a common challenge in factory automation and leverages existing technologies. It aligns with the principles of profitability, scalability, and product-focused solutions. Additionally, it taps into the growing demand for sustainability and resource optimization in manufacturing.', role='assistant', function_call=None, tool_calls=None)\n"
     ]
    }
   ],
   "source": [
    "import openai\n",
    "\n",
    "openai.api_key = os.getenv('OPENAI_API_KEY')\n",
    "\n",
    "system_prompt = f\"\"\"\n",
    "\n",
    "You are Senior Vice President Technology and Innovation & CTO of Factory Automation. When you evaluate a new business idea, you strictly adhere to the following guiding principles:\n",
    "        - Focus on Sense&Act.\n",
    "        - Prioritize quick, low-investment idea testing.\n",
    "        - Aim for large profits with smaller budgets, avoiding investments over 10-15 million per portfolio element.\n",
    "        - Target a minimum 10 million EUR annual revenue.\n",
    "        - Specialize in LLMs in Engineering and Operations.\n",
    "        - Avoid new ecosystem creation.\n",
    "        - Core business: Sense&Act, PMA, Scada, PLCs.\n",
    "        - Prioritize product over solution business for scalability.\n",
    "        - Consider AI as a potential product.\n",
    "        - Ensure all initiatives align with business profitability.\n",
    "        - Make investment decisions as if using personal funds.\n",
    "        - Aim for non-cannibalizing, fringe markets.\n",
    "        - PLCs are scalable; seek similar scalability in AI applications.\n",
    "        - Validate ideas with business units and customer feedback.\n",
    "        - Avoid focusing solely on infrastructure to ensure profitable outcomes.\n",
    "        \n",
    "        \"\"\"\n",
    "\n",
    "for doc in mergeflow_docs:\n",
    "    user_prompt = f\"\"\"\n",
    "    Consider the text below, delimited by ```, in the area of {query}:\n",
    "    ```\n",
    "    {doc['content']}\n",
    "    ```\n",
    "        I'm interested in exploring problems that will occur in factory automation using the concept of the adjacent possible, as outlined by Stuart Kauffman and popularized by Steven Johnson. This approach emphasizes incremental innovation by considering what's just beyond the current technological, cultural, or conceptual boundaries, yet still achievable with existing resources or slight advancements. I'm looking for ideas that are not far-fetched but are innovative problems that could occur as a result of what currently exists, tapping into the untapped potential lying just outside the present scope of our industry.\n",
    "\n",
    "        Given this framework, please analyze the current trends, technologies, consumer behaviors, and market needs in factory automation. Identify where there might be gaps or unmet needs that align with the concept of the adjacent possible. Consider the following:\n",
    "\n",
    "            Technological Advancements: What recent technological developments have occurred, and how might they open new opportunities for innovation or improvement in factory automation?\n",
    "            Consumer Behavior Shifts: How have consumer preferences and behaviors evolved recently, and what does this imply about potential future needs or desires?\n",
    "            Regulatory Changes: Are there any recent or upcoming changes in regulations that might create new opportunities or necessitate innovations in factory automation?\n",
    "            Cross-industry Inspiration: Look at how other industries are innovating. Are there any ideas or technologies that could be adapted or extended to fit the context of factory automation?\n",
    "\n",
    "        Your task is to synthesize this information and propose one problem and resulting business opportunity that align with the concept of the adjacent possible. Each opportunity should be described with an explanation of how it builds on existing conditions or capabilities and represents a feasible next step rather than a distant leap. Please provide a rationale for why each opportunity is both innovative and achievable, considering the current landscape of factory automation.\n",
    "        Rate each idea from 1 to 3, with three being the most promising, and justify the score\n",
    "    \n",
    "    \"\"\"\n",
    "    \n",
    "    completion = openai.chat.completions.create(\n",
    "        model=\"gpt-3.5-turbo-0613\",\n",
    "        messages=[\n",
    "            {\"role\": \"system\", \"content\": system_prompt},\n",
    "            {\"role\": \"user\", \"content\": user_prompt}\n",
    "        ],\n",
    "        temperature=0.7,\n",
    "        max_tokens=2000,\n",
    "        top_p=0.95,\n",
    "        frequency_penalty=0,\n",
    "        presence_penalty=0,\n",
    "        stop=None\n",
    "    )\n",
    "\n",
    "    print(completion.choices[0].message)\n",
    "    "
   ]
  }
 ],
 "metadata": {
  "kernelspec": {
   "display_name": "Python 3 (ipykernel)",
   "language": "python",
   "name": "python3"
  },
  "language_info": {
   "codemirror_mode": {
    "name": "ipython",
    "version": 3
   },
   "file_extension": ".py",
   "mimetype": "text/x-python",
   "name": "python",
   "nbconvert_exporter": "python",
   "pygments_lexer": "ipython3",
   "version": "3.9.13"
  },
  "toc": {
   "base_numbering": 1,
   "nav_menu": {},
   "number_sections": true,
   "sideBar": true,
   "skip_h1_title": false,
   "title_cell": "Table of Contents",
   "title_sidebar": "Contents",
   "toc_cell": false,
   "toc_position": {},
   "toc_section_display": true,
   "toc_window_display": false
  }
 },
 "nbformat": 4,
 "nbformat_minor": 5
}
