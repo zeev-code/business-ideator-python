{
 "cells": [
  {
   "cell_type": "code",
   "execution_count": 1,
   "id": "bc869ab3",
   "metadata": {
    "ExecuteTime": {
     "end_time": "2024-02-14T10:06:37.853103Z",
     "start_time": "2024-02-14T10:06:28.303591Z"
    }
   },
   "outputs": [
    {
     "name": "stdout",
     "output_type": "stream",
     "text": [
      "Requirement already satisfied: python-dotenv in /Users/leonarddavid/opt/anaconda3/lib/python3.9/site-packages (1.0.0)\n",
      "Requirement already satisfied: openai in /Users/leonarddavid/opt/anaconda3/lib/python3.9/site-packages (1.8.0)\n",
      "Requirement already satisfied: httpx<1,>=0.23.0 in /Users/leonarddavid/opt/anaconda3/lib/python3.9/site-packages (from openai) (0.26.0)\n",
      "Requirement already satisfied: tqdm>4 in /Users/leonarddavid/opt/anaconda3/lib/python3.9/site-packages (from openai) (4.64.1)\n",
      "Requirement already satisfied: sniffio in /Users/leonarddavid/opt/anaconda3/lib/python3.9/site-packages (from openai) (1.2.0)\n",
      "Requirement already satisfied: anyio<5,>=3.5.0 in /Users/leonarddavid/opt/anaconda3/lib/python3.9/site-packages (from openai) (3.5.0)\n",
      "Requirement already satisfied: distro<2,>=1.7.0 in /Users/leonarddavid/opt/anaconda3/lib/python3.9/site-packages (from openai) (1.9.0)\n",
      "Requirement already satisfied: pydantic<3,>=1.9.0 in /Users/leonarddavid/opt/anaconda3/lib/python3.9/site-packages (from openai) (2.5.3)\n",
      "Requirement already satisfied: typing-extensions<5,>=4.7 in /Users/leonarddavid/opt/anaconda3/lib/python3.9/site-packages (from openai) (4.9.0)\n",
      "Requirement already satisfied: idna>=2.8 in /Users/leonarddavid/opt/anaconda3/lib/python3.9/site-packages (from anyio<5,>=3.5.0->openai) (3.3)\n",
      "Requirement already satisfied: httpcore==1.* in /Users/leonarddavid/opt/anaconda3/lib/python3.9/site-packages (from httpx<1,>=0.23.0->openai) (1.0.2)\n",
      "Requirement already satisfied: certifi in /Users/leonarddavid/opt/anaconda3/lib/python3.9/site-packages (from httpx<1,>=0.23.0->openai) (2022.9.24)\n",
      "Requirement already satisfied: h11<0.15,>=0.13 in /Users/leonarddavid/opt/anaconda3/lib/python3.9/site-packages (from httpcore==1.*->httpx<1,>=0.23.0->openai) (0.14.0)\n",
      "Requirement already satisfied: annotated-types>=0.4.0 in /Users/leonarddavid/opt/anaconda3/lib/python3.9/site-packages (from pydantic<3,>=1.9.0->openai) (0.6.0)\n",
      "Requirement already satisfied: pydantic-core==2.14.6 in /Users/leonarddavid/opt/anaconda3/lib/python3.9/site-packages (from pydantic<3,>=1.9.0->openai) (2.14.6)\n"
     ]
    }
   ],
   "source": [
    "!pip install python-dotenv\n",
    "!pip install openai"
   ]
  },
  {
   "cell_type": "markdown",
   "id": "eeb91447",
   "metadata": {},
   "source": [
    "# Getting data from Mergeflow's API"
   ]
  },
  {
   "cell_type": "code",
   "execution_count": 9,
   "id": "31aea093",
   "metadata": {
    "ExecuteTime": {
     "end_time": "2024-02-14T13:56:21.960686Z",
     "start_time": "2024-02-14T13:56:19.816439Z"
    }
   },
   "outputs": [
    {
     "name": "stdout",
     "output_type": "stream",
     "text": [
      "Found 10 documents.\n"
     ]
    }
   ],
   "source": [
    "import requests\n",
    "import json\n",
    "import os\n",
    "from dotenv import load_dotenv\n",
    "\n",
    "load_dotenv()  # Load variables from .env file\n",
    "mergeflow_api_key = os.getenv('MERGEFLOW_API_KEY')\n",
    "\n",
    "# the API call\n",
    "query = 'factory automation' # topic is \"factory automation\"\n",
    "dataset = '&sp=3814' # dataset: industry news\n",
    "rows = str(10) # first 10 docs only\n",
    "\n",
    "# in the url below, replace \"fw\" by your user name. You can see your user name at mergeflow.net\n",
    "# -> Account -> the string in angle brackets\n",
    "url = 'https://mergeflow.net/api/v1/leonard/search/getContent?q=' + query + dataset + '&rows=' + rows\n",
    "\n",
    "# Define the headers to be sent with the request\n",
    "headers = {\n",
    "    'MergeflowNet-Api-Auth-Key': mergeflow_api_key\n",
    "}\n",
    "\n",
    "# Get and print the response\n",
    "response = requests.post(url, headers=headers)\n",
    "\n",
    "mergeflow_docs = []\n",
    "\n",
    "# Check the response status code and content\n",
    "if response.status_code == 200:\n",
    "    mergeflow_response_json = response.json()\n",
    "    \n",
    "    #pretty-print the JSON response -- useful to understand what the JSON looks like\n",
    "    #pretty_json = json.dumps(mergeflow_response_json, indent=4)\n",
    "    #print(pretty_json)\n",
    "    \n",
    "    # get title, URL, date, and content\n",
    "    for document in mergeflow_response_json['Documents']:\n",
    "        current_doc = {\n",
    "            'title': document['Title'],\n",
    "            'date': document['Date'],\n",
    "            'url': document['Url'],\n",
    "            'content': document['Content'][:5000]\n",
    "        }\n",
    "        \n",
    "        mergeflow_docs.append(current_doc)\n",
    "        #print(content)        \n",
    "\n",
    "    print('Found ' + str(len(mergeflow_docs)) + ' documents.')\n",
    "\n",
    "else:\n",
    "    print('Request failed with status code:', response.status_code)\n",
    "    print(response.text)  # Print the response text\n"
   ]
  },
  {
   "cell_type": "markdown",
   "id": "8be09112",
   "metadata": {},
   "source": [
    "# Answering questions on the results with OpenAI GPT"
   ]
  },
  {
   "cell_type": "code",
   "execution_count": 8,
   "id": "8e00c882",
   "metadata": {
    "ExecuteTime": {
     "end_time": "2024-02-14T13:55:30.139382Z",
     "start_time": "2024-02-14T13:54:58.754927Z"
    },
    "scrolled": false
   },
   "outputs": [
    {
     "name": "stdout",
     "output_type": "stream",
     "text": [
      "Based on the guiding principles provided, the idea presented by Cellares does not align with the core focus and principles of your Factory Automation business. Cellares' focus on cell therapy manufacturing and integrated technologies for drug development is outside the scope of Sense&Act, PMA, Scada, and PLCs that your business specializes in. Additionally, the significant investment of over $355 million in financing and the emphasis on drug development and biotech partnerships do not fit the criteria of quick, low-investment idea testing with a maximum budget of 10-15 million per portfolio element.\n",
      "\n",
      "Analyzing the current trends and gaps in factory automation within the context of the adjacent possible, one potential problem and business opportunity that align with your principles could be:\n",
      "\n",
      "**Problem & Business Opportunity:**\n",
      "**Problem:** There is a growing need for enhanced predictive maintenance solutions in factory automation to minimize downtime and optimize operational efficiency.\n",
      "**Business Opportunity:** Develop an AI-powered predictive maintenance system specifically designed for PLCs and SCADA systems, leveraging existing technologies and data analytics to anticipate and prevent equipment failures before they occur. This solution would integrate seamlessly with existing automation systems, offering real-time monitoring and actionable insights to improve overall equipment effectiveness.\n",
      "\n",
      "**Rationale:**\n",
      "1. **Technological Advancements:** Recent advancements in AI and machine learning have made predictive maintenance more accessible and effective. By focusing on AI applications for PLCs and SCADA systems, this solution can provide scalable benefits without the need for extensive infrastructure changes.\n",
      "2. **Consumer Behavior Shifts:** Manufacturers are increasingly looking for proactive maintenance solutions to avoid costly downtime and maintenance inefficiencies. This aligns with the market's need for more efficient and cost-effective automation processes.\n",
      "3. **Regulatory Changes:** Regulatory bodies are emphasizing the importance of predictive maintenance to ensure operational safety and compliance. Developing a solution that meets these regulatory requirements can create new opportunities in the factory automation sector.\n",
      "4. **Cross-Industry Inspiration:** AI-based predictive maintenance has been successfully implemented in various industries like automotive and aerospace. Adapting and extending these technologies to factory automation can lead to innovative solutions that address the industry's evolving needs.\n",
      "\n",
      "**Rating: 3**\n",
      "This idea scores a 3 as it leverages existing technologies, aligns with market needs for efficiency and cost-effectiveness, and addresses a gap in predictive maintenance solutions within factory automation. The focus on AI applications for PLCs and SCADA systems ensures scalability and profitability while remaining within the boundaries of your core business and guiding principles.\n",
      "\n",
      "---\n",
      "\n"
     ]
    }
   ],
   "source": [
    "import openai\n",
    "\n",
    "openai.api_key = os.getenv('OPENAI_API_KEY')\n",
    "\n",
    "system_prompt = f\"\"\"\n",
    "\n",
    "You are Senior Vice President Technology and Innovation & CTO of Factory Automation. When you evaluate a new business idea, you strictly adhere to the following guiding principles:\n",
    "        - Focus on Sense&Act.\n",
    "        - Prioritize quick, low-investment idea testing.\n",
    "        - Aim for large profits with smaller budgets, avoiding investments over 10-15 million per portfolio element.\n",
    "        - Target a minimum 10 million EUR annual revenue.\n",
    "        - Specialize in LLMs in Engineering and Operations.\n",
    "        - Avoid new ecosystem creation.\n",
    "        - Core business: Sense&Act, PMA, Scada, PLCs.\n",
    "        - Prioritize product over solution business for scalability.\n",
    "        - Consider AI as a potential product.\n",
    "        - Ensure all initiatives align with business profitability.\n",
    "        - Make investment decisions as if using personal funds.\n",
    "        - Aim for non-cannibalizing, fringe markets.\n",
    "        - PLCs are scalable; seek similar scalability in AI applications.\n",
    "        - Validate ideas with business units and customer feedback.\n",
    "        - Avoid focusing solely on infrastructure to ensure profitable outcomes.\n",
    "        \n",
    "        \"\"\"\n",
    "\n",
    "\n",
    "user_prompt = f\"\"\"\n",
    "Consider the text below, delimited by ```, in the area of {query}:\n",
    "```\n",
    "{doc['content']}\n",
    "```\n",
    "    I'm interested in exploring problems that will occur in the area of {query} using the concept of the adjacent possible, as outlined by Stuart Kauffman and popularized by Steven Johnson. This approach emphasizes incremental innovation by considering what's just beyond the current technological, cultural, or conceptual boundaries, yet still achievable with existing resources or slight advancements. \n",
    "        \n",
    "    I'm looking for ideas that are not far-fetched but are innovative problems that could occur as a result of what currently exists, tapping into the untapped potential lying just outside the present scope of {query}.\n",
    "\n",
    "    Given this framework, please analyze the current trends, technologies, consumer behaviors, and market needs in {query}. Identify where there might be gaps or unmet needs that align with the concept of the adjacent possible. Consider the following:\n",
    "\n",
    "    Technological Advancements: What recent technological developments have occurred, and how might they open new opportunities for innovation or improvement in factory automation?\n",
    "    Consumer Behavior Shifts: How have consumer preferences and behaviors evolved recently, and what does this imply about potential future needs or desires?\n",
    "    Regulatory Changes: Are there any recent or upcoming changes in regulations that might create new opportunities or necessitate innovations in factory automation?\n",
    "    Cross-industry Inspiration: Look at how other industries are innovating. Are there any ideas or technologies that could be adapted or extended to fit the context of factory automation?\n",
    "\n",
    "    Your task is to synthesize this information and propose one problem and resulting business opportunity that align with the concept of the adjacent possible. Each opportunity should be described with an explanation of how it builds on existing conditions or capabilities and represents a feasible next step rather than a distant leap. Please provide a rationale for why each opportunity is both innovative and achievable, considering the current landscape of factory automation.\n",
    "    Rate each idea from 1 to 3, with three being the most promising, and justify the score\n",
    "    \n",
    "\"\"\"\n",
    "    \n",
    "    completion = openai.chat.completions.create(\n",
    "        model=\"gpt-3.5-turbo-0125\",\n",
    "        messages=[\n",
    "            {\"role\": \"system\", \"content\": system_prompt},\n",
    "            {\"role\": \"user\", \"content\": user_prompt}\n",
    "        ],\n",
    "        temperature=0.7,\n",
    "        max_tokens=2000,\n",
    "        top_p=0.95,\n",
    "        frequency_penalty=0,\n",
    "        presence_penalty=0,\n",
    "        stop=None\n",
    "    )\n",
    "\n",
    "print(completion.choices[0].message.content) # This prints the content of the output in a more readable way\n",
    "print(\"\\n---\\n\") # This adds a separator between the content blocks for readability\n",
    "\n",
    "    "
   ]
  }
 ],
 "metadata": {
  "kernelspec": {
   "display_name": "Python 3 (ipykernel)",
   "language": "python",
   "name": "python3"
  },
  "language_info": {
   "codemirror_mode": {
    "name": "ipython",
    "version": 3
   },
   "file_extension": ".py",
   "mimetype": "text/x-python",
   "name": "python",
   "nbconvert_exporter": "python",
   "pygments_lexer": "ipython3",
   "version": "3.9.13"
  },
  "toc": {
   "base_numbering": 1,
   "nav_menu": {},
   "number_sections": true,
   "sideBar": true,
   "skip_h1_title": false,
   "title_cell": "Table of Contents",
   "title_sidebar": "Contents",
   "toc_cell": false,
   "toc_position": {},
   "toc_section_display": true,
   "toc_window_display": false
  }
 },
 "nbformat": 4,
 "nbformat_minor": 5
}
