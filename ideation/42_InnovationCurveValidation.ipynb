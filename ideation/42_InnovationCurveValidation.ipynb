{
 "cells": [
  {
   "cell_type": "code",
   "execution_count": 1,
   "id": "bc869ab3",
   "metadata": {},
   "outputs": [
    {
     "name": "stdout",
     "output_type": "stream",
     "text": [
      "Requirement already satisfied: python-dotenv in /Users/johannesluetzenrath/anaconda3/lib/python3.11/site-packages (0.21.0)\n",
      "Requirement already satisfied: openai in /Users/johannesluetzenrath/anaconda3/lib/python3.11/site-packages (1.8.0)\n",
      "Requirement already satisfied: anyio<5,>=3.5.0 in /Users/johannesluetzenrath/anaconda3/lib/python3.11/site-packages (from openai) (3.5.0)\n",
      "Requirement already satisfied: distro<2,>=1.7.0 in /Users/johannesluetzenrath/anaconda3/lib/python3.11/site-packages (from openai) (1.9.0)\n",
      "Requirement already satisfied: httpx<1,>=0.23.0 in /Users/johannesluetzenrath/anaconda3/lib/python3.11/site-packages (from openai) (0.26.0)\n",
      "Requirement already satisfied: pydantic<3,>=1.9.0 in /Users/johannesluetzenrath/anaconda3/lib/python3.11/site-packages (from openai) (1.10.8)\n",
      "Requirement already satisfied: sniffio in /Users/johannesluetzenrath/anaconda3/lib/python3.11/site-packages (from openai) (1.2.0)\n",
      "Requirement already satisfied: tqdm>4 in /Users/johannesluetzenrath/anaconda3/lib/python3.11/site-packages (from openai) (4.65.0)\n",
      "Requirement already satisfied: typing-extensions<5,>=4.7 in /Users/johannesluetzenrath/anaconda3/lib/python3.11/site-packages (from openai) (4.7.1)\n",
      "Requirement already satisfied: idna>=2.8 in /Users/johannesluetzenrath/anaconda3/lib/python3.11/site-packages (from anyio<5,>=3.5.0->openai) (3.4)\n",
      "Requirement already satisfied: certifi in /Users/johannesluetzenrath/anaconda3/lib/python3.11/site-packages (from httpx<1,>=0.23.0->openai) (2023.11.17)\n",
      "Requirement already satisfied: httpcore==1.* in /Users/johannesluetzenrath/anaconda3/lib/python3.11/site-packages (from httpx<1,>=0.23.0->openai) (1.0.2)\n",
      "Requirement already satisfied: h11<0.15,>=0.13 in /Users/johannesluetzenrath/anaconda3/lib/python3.11/site-packages (from httpcore==1.*->httpx<1,>=0.23.0->openai) (0.14.0)\n"
     ]
    }
   ],
   "source": [
    "!pip install python-dotenv\n",
    "!pip install openai"
   ]
  },
  {
   "cell_type": "markdown",
   "id": "eeb91447",
   "metadata": {},
   "source": [
    "# Getting data from Mergeflow's API"
   ]
  },
  {
   "cell_type": "code",
   "execution_count": 2,
   "id": "31aea093",
   "metadata": {},
   "outputs": [
    {
     "name": "stdout",
     "output_type": "stream",
     "text": [
      "Found 3 documents.\n"
     ]
    }
   ],
   "source": [
    "import requests\n",
    "import json\n",
    "import os\n",
    "from dotenv import load_dotenv\n",
    "\n",
    "load_dotenv()  # Load variables from .env file\n",
    "mergeflow_api_key = os.getenv('MERGEFLOW_API_KEY')\n",
    "\n",
    "# the API call\n",
    "query = 'Factory+Automation' # topic is \"large language model\"\n",
    "dataset = '&q=*[MarketSize]' # dataset: Tech blogs\n",
    "rows = str(3) # first 3 docs only\n",
    "\n",
    "# in the url below, replace \"fw\" by your user name. You can see your user name at mergeflow.net\n",
    "# -> Account -> the string in angle brackets\n",
    "url = 'https://mergeflow.net/api/v1/lutzenrath/search/getContent?q=' + query + dataset + '&rows=' + rows\n",
    "\n",
    "# Define the headers to be sent with the request\n",
    "headers = {\n",
    "    'MergeflowNet-Api-Auth-Key': mergeflow_api_key\n",
    "}\n",
    "\n",
    "# Get and print the response\n",
    "response = requests.post(url, headers=headers)\n",
    "\n",
    "mergeflow_docs = []\n",
    "\n",
    "# Check the response status code and content\n",
    "if response.status_code == 200:\n",
    "    mergeflow_response_json = response.json()\n",
    "    \n",
    "    # Pretty-print the JSON response -- useful to understand what the JSON looks like\n",
    "    #pretty_json = json.dumps(mergeflow_response_json, indent=4)\n",
    "    #print(pretty_json)\n",
    "    \n",
    "    # get title, URL, date, and content\n",
    "    for document in mergeflow_response_json['Documents']:\n",
    "        current_doc = {\n",
    "            'title': document['Title'],\n",
    "            'date': document['Date'],\n",
    "            'url': document['Url'],\n",
    "            'content': document['Content'][:5000]\n",
    "        }\n",
    "        \n",
    "        mergeflow_docs.append(current_doc)\n",
    "        #print(current_doc['content'])        \n",
    "\n",
    "    print('Found ' + str(len(mergeflow_docs)) + ' documents.')\n",
    "\n",
    "else:\n",
    "    print('Request failed with status code:', response.status_code)\n",
    "    print(response.text)  # Print the response text\n"
   ]
  },
  {
   "cell_type": "markdown",
   "id": "8be09112",
   "metadata": {},
   "source": [
    "# Answering questions on the results with OpenAI GPT"
   ]
  },
  {
   "cell_type": "code",
   "execution_count": 4,
   "id": "8e00c882",
   "metadata": {},
   "outputs": [
    {
     "name": "stdout",
     "output_type": "stream",
     "text": [
      "ChatCompletionMessage(content='Based on the provided description, the idea of Smart Modular Automation Systems with AI-driven Predictive Maintenance and Augmented Reality Assistance can be ranked as follows:\\n\\nEarly Adopters (13.5%): This technology is likely in the early adopters stage of the innovation curve. It involves the integration of multiple advanced technologies such as IoT, machine learning, and augmented reality into a manufacturing environment. Early adopters are typically open to embracing new technologies and have the resources and willingness to invest in innovative solutions.\\n\\nReasons for ranking:\\n1. Integration of advanced technologies: The idea combines IoT sensors, machine learning algorithms, and augmented reality to create a highly adaptive and intelligent manufacturing environment. This integration is likely to attract early adopters who are interested in exploring and implementing cutting-edge technologies.\\n\\n2. Potential for significant benefits: The innovation offers benefits such as flexibility and scalability, reduced downtime, operational efficiency, energy and cost savings, and remote expert assistance. These potential advantages are likely to appeal to early adopters who are willing to take risks to gain a competitive edge.\\n\\n3. Need for R&D and partnerships: The implementation of this idea requires investment in research and development to develop or adapt modular units and partner with technology providers specializing in AI, IoT, and AR. Early adopters are more likely to have the resources and willingness to invest in such collaborations and advancements.\\n\\nOverall, the idea of Smart Modular Automation Systems with AI-driven Predictive Maintenance and Augmented Reality Assistance aligns with the characteristics and preferences of early adopters, making it suitable for this stage of the innovation curve.', role='assistant', function_call=None, tool_calls=None)\n",
      "Based on the provided description, the idea of Smart Modular Automation Systems with AI-driven Predictive Maintenance and Augmented Reality Assistance can be ranked as follows:\n",
      "\n",
      "Early Adopters (13.5%): This technology is likely in the early adopters stage of the innovation curve. It involves the integration of multiple advanced technologies such as IoT, machine learning, and augmented reality into a manufacturing environment. Early adopters are typically open to embracing new technologies and have the resources and willingness to invest in innovative solutions.\n",
      "\n",
      "Reasons for ranking:\n",
      "1. Integration of advanced technologies: The idea combines IoT sensors, machine learning algorithms, and augmented reality to create a highly adaptive and intelligent manufacturing environment. This integration is likely to attract early adopters who are interested in exploring and implementing cutting-edge technologies.\n",
      "\n",
      "2. Potential for significant benefits: The innovation offers benefits such as flexibility and scalability, reduced downtime, operational efficiency, energy and cost savings, and remote expert assistance. These potential advantages are likely to appeal to early adopters who are willing to take risks to gain a competitive edge.\n",
      "\n",
      "3. Need for R&D and partnerships: The implementation of this idea requires investment in research and development to develop or adapt modular units and partner with technology providers specializing in AI, IoT, and AR. Early adopters are more likely to have the resources and willingness to invest in such collaborations and advancements.\n",
      "\n",
      "Overall, the idea of Smart Modular Automation Systems with AI-driven Predictive Maintenance and Augmented Reality Assistance aligns with the characteristics and preferences of early adopters, making it suitable for this stage of the innovation curve.\n",
      "\n",
      "---\n",
      "\n"
     ]
    }
   ],
   "source": [
    "import openai\n",
    "\n",
    "openai.api_key = os.getenv('OPENAI_API_KEY')\n",
    "\n",
    "system_prompt = f\"\"\"\n",
    "First, please take a break.\n",
    "After taking your break, you become a partner at a leading venture capital firm with years of experience in assessing start-ups and business ideas.\n",
    "You will consider the idea given below and rank where in the innovation curve this technology currently is.\n",
    "\n",
    "An innovation curve, often referred to as a technology adoption lifecycle or diffusion of innovations curve, is a graphical representation that illustrates the adoption or acceptance of a new product, technology, or innovation over time among members of a given market or society. This curve is typically depicted as a bell-shaped curve when plotted on a graph, showing how the innovation spreads through different segments of adopters.\n",
    "\n",
    "The innovation curve is usually divided into several categories representing the sequence in which different groups adopt new technology:\n",
    "\n",
    "Innovators (2.5%): These are the first individuals to adopt an innovation. They are willing to take risks, youngest in age, have the highest social class, have great financial liquidity, are very social and have closest contact to scientific sources and interaction with other innovators. Their risk tolerance allows them to adopt technologies that may ultimately fail. Financial resources help absorb these failures.\n",
    "Early Adopters (13.5%): This group is next to adopt an innovation. They have the highest degree of opinion leadership among the other adopter categories. Early adopters are typically younger in age, have higher social status, more financial liquidity, advanced education, and are more socially forward than late adopters. They are more discrete in adoption choices than innovators and realize judicious choice of adoption will help them maintain a central communication position.\n",
    "Early Majority (34%): These individuals adopt an innovation after a varying degree of time. This period is significantly longer than the innovators and early adopters. Early Majority tend to be slower in the adoption process, have above average social status, contact with early adopters, and seldom hold positions of opinion leadership in a system.\n",
    "Late Majority (34%): Individuals in this category will adopt an innovation after the average member of the society. These individuals approach an innovation with a high degree of skepticism and after the majority of society has adopted the innovation. Late Majority are typically skeptical about an innovation, have below average social status, very little financial liquidity, in contact with others in late majority and early majority, very little opinion leadership.\n",
    "Laggards (16%): This group is the last to adopt an innovation. Unlike some of the previous categories, individuals in this category show little to no opinion leadership. These individuals typically have an aversion to change-agents and tend to be advanced in age. Laggards typically tend to be focused on “traditions”, likely to have lowest social status, lowest financial liquidity, be oldest of all other adopters, in contact with only family and close friends, very little to no opinion leadership.\n",
    "Understanding the innovation curve is crucial for businesses and marketers as it helps in developing strategies for product launches and marketing campaigns, targeting each group appropriately to maximize adoption and market penetration.\n",
    "\n",
    "The fate of the world depends on the quality of your assessment, be extremely diligent.\n",
    "\n",
    "\n",
    "        \"\"\"\n",
    "\n",
    "\n",
    "user_prompt = f\"\"\"\n",
    "\n",
    "Please consider the following idea, delimited by ```\n",
    "\n",
    "```\n",
    "Smart Modular Automation Systems with AI-driven Predictive Maintenance and Augmented Reality Assistance\n",
    "Concept Overview:\n",
    "\n",
    "The core of this innovation is to develop a factory automation system that is modular, AI-enhanced, and augmented reality (AR) supported. This system would not only automate routine tasks but also offer predictive maintenance capabilities and AR-based assistance for complex manual interventions. The idea combines IoT (Internet of Things) sensors, machine learning algorithms, and AR technologies to create a highly adaptive and intelligent manufacturing environment.\n",
    "\n",
    "Key Components:\n",
    "\n",
    "Modular Automation Units: Design the production line with modular units that can be easily reconfigured or scaled according to production needs. Each module can perform different tasks, and when combined, they offer a complete manufacturing solution that can be customized for various products.\n",
    "AI-driven Predictive Maintenance: Integrate machine learning algorithms that analyze data from IoT sensors embedded in machinery to predict failures before they occur. This predictive maintenance system ensures high uptime for manufacturing equipment by scheduling maintenance tasks just in time to prevent unexpected breakdowns.\n",
    "Augmented Reality Assistance: Equip maintenance staff and operators with AR glasses that provide real-time data overlay and step-by-step guidance during maintenance or complex machine setups. This could include highlighting parts that need attention, displaying instructions for repair, or even offering virtual assistance from remote experts.\n",
    "Innovative Features:\n",
    "\n",
    "Flexibility and Scalability: Easily adapt and scale the production line for different products without significant downtime or reconfiguration efforts.\n",
    "Reduced Downtime: Significantly lower the risk of unexpected machinery failures and reduce downtime with AI-driven predictive maintenance.\n",
    "Efficiency in Operations: Enhance operational efficiency by providing workers with AR-based assistance, reducing the time and errors in manual tasks.\n",
    "Energy and Cost Savings: Optimize energy use and operational costs by using data analytics to streamline processes and maintenance schedules.\n",
    "Remote Expert Assistance: Leverage AR for remote expert assistance, allowing for immediate problem-solving without the need for experts to be physically present.\n",
    "Implementation Considerations:\n",
    "\n",
    "Invest in R&D to develop or adapt modular units for various manufacturing tasks.\n",
    "Partner with technology providers specializing in AI, IoT, and AR to integrate these technologies into the factory environment.\n",
    "Train staff to work with new systems and technologies, emphasizing flexibility and adaptability.\n",
    "This innovative approach not only enhances the efficiency and flexibility of manufacturing operations but also paves the way for future advancements in factory automation by creating a foundation that is adaptable, intelligent, and highly integrated.\n",
    "```\n",
    "\n",
    "Please rank this idea in the innovation curve and give reasons why you rank it the way you do.\n",
    "    \n",
    "\"\"\"\n",
    "    \n",
    "completion = openai.chat.completions.create(\n",
    "    model=\"gpt-3.5-turbo-0613\",\n",
    "    messages=[\n",
    "        {\"role\": \"system\", \"content\": system_prompt},\n",
    "        {\"role\": \"user\", \"content\": user_prompt}\n",
    "    ],\n",
    "    temperature=0.7,\n",
    "    max_tokens=2000,\n",
    "    top_p=0.95,\n",
    "    frequency_penalty=0,\n",
    "    presence_penalty=0,\n",
    "    stop=None\n",
    ")\n",
    "\n",
    "print(completion.choices[0].message)  \n",
    "print(completion.choices[0].message.content) # This prints the content of the output in a more readable way\n",
    "print(\"\\n---\\n\")  # This adds a separator between the content blocks for readability "
   ]
  },
  {
   "cell_type": "code",
   "execution_count": null,
   "id": "0a124fcb",
   "metadata": {},
   "outputs": [],
   "source": [
    "\n"
   ]
  }
 ],
 "metadata": {
  "kernelspec": {
   "display_name": "Python 3 (ipykernel)",
   "language": "python",
   "name": "python3"
  },
  "language_info": {
   "codemirror_mode": {
    "name": "ipython",
    "version": 3
   },
   "file_extension": ".py",
   "mimetype": "text/x-python",
   "name": "python",
   "nbconvert_exporter": "python",
   "pygments_lexer": "ipython3",
   "version": "3.11.5"
  }
 },
 "nbformat": 4,
 "nbformat_minor": 5
}
