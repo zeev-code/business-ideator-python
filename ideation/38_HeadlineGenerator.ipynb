{
 "cells": [
  {
   "cell_type": "code",
   "execution_count": 1,
   "id": "bc869ab3",
   "metadata": {
    "ExecuteTime": {
     "end_time": "2024-02-14T10:06:37.853103Z",
     "start_time": "2024-02-14T10:06:28.303591Z"
    }
   },
   "outputs": [
    {
     "name": "stdout",
     "output_type": "stream",
     "text": [
      "Requirement already satisfied: python-dotenv in c:\\users\\user\\anaconda3\\lib\\site-packages (0.21.0)\n",
      "Requirement already satisfied: openai in c:\\users\\user\\anaconda3\\lib\\site-packages (1.11.1)\n",
      "Requirement already satisfied: anyio<5,>=3.5.0 in c:\\users\\user\\anaconda3\\lib\\site-packages (from openai) (3.5.0)\n",
      "Requirement already satisfied: distro<2,>=1.7.0 in c:\\users\\user\\anaconda3\\lib\\site-packages (from openai) (1.9.0)\n",
      "Requirement already satisfied: httpx<1,>=0.23.0 in c:\\users\\user\\anaconda3\\lib\\site-packages (from openai) (0.26.0)\n",
      "Requirement already satisfied: pydantic<3,>=1.9.0 in c:\\users\\user\\anaconda3\\lib\\site-packages (from openai) (1.10.8)\n",
      "Requirement already satisfied: sniffio in c:\\users\\user\\anaconda3\\lib\\site-packages (from openai) (1.2.0)\n",
      "Requirement already satisfied: tqdm>4 in c:\\users\\user\\anaconda3\\lib\\site-packages (from openai) (4.65.0)\n",
      "Requirement already satisfied: typing-extensions<5,>=4.7 in c:\\users\\user\\anaconda3\\lib\\site-packages (from openai) (4.7.1)\n",
      "Requirement already satisfied: idna>=2.8 in c:\\users\\user\\anaconda3\\lib\\site-packages (from anyio<5,>=3.5.0->openai) (3.4)\n",
      "Requirement already satisfied: certifi in c:\\users\\user\\anaconda3\\lib\\site-packages (from httpx<1,>=0.23.0->openai) (2023.7.22)\n",
      "Requirement already satisfied: httpcore==1.* in c:\\users\\user\\anaconda3\\lib\\site-packages (from httpx<1,>=0.23.0->openai) (1.0.2)\n",
      "Requirement already satisfied: h11<0.15,>=0.13 in c:\\users\\user\\anaconda3\\lib\\site-packages (from httpcore==1.*->httpx<1,>=0.23.0->openai) (0.14.0)\n",
      "Requirement already satisfied: colorama in c:\\users\\user\\anaconda3\\lib\\site-packages (from tqdm>4->openai) (0.4.6)\n"
     ]
    }
   ],
   "source": [
    "!pip install python-dotenv\n",
    "!pip install openai"
   ]
  },
  {
   "cell_type": "markdown",
   "id": "eeb91447",
   "metadata": {},
   "source": [
    "# Getting data from Mergeflow's API"
   ]
  },
  {
   "cell_type": "code",
   "execution_count": 3,
   "id": "31aea093",
   "metadata": {
    "ExecuteTime": {
     "end_time": "2024-02-19T15:17:29.297423Z",
     "start_time": "2024-02-19T15:17:27.723944Z"
    }
   },
   "outputs": [
    {
     "name": "stdout",
     "output_type": "stream",
     "text": [
      "Found 5 documents.\n"
     ]
    }
   ],
   "source": [
    "import requests\n",
    "import json\n",
    "import os\n",
    "from dotenv import load_dotenv\n",
    "\n",
    "load_dotenv()  # Load variables from .env file\n",
    "mergeflow_api_key = os.getenv('MERGEFLOW_API_KEY')\n",
    "\n",
    "# the API call\n",
    "query = 'factory+automation' # topic of the search\n",
    "dataset = '&q=*%5bfundingcompany%7cfundingproject%7cfundingorganization%5d&sp=2572' # access dataset from mergeflow - in this case venture capital investments\n",
    "rows = str(5) # first 5 docs only\n",
    "\n",
    "# in the url below, replace \"fw\" by your user name. You can see your user name at mergeflow.net\n",
    "# -> Account -> the string in angle brackets\n",
    "url = 'https://mergeflow.net/api/v1/fw/search/getContent?q=' + query + dataset + '&rows=' + rows\n",
    "\n",
    "# Define the headers to be sent with the request\n",
    "headers = {\n",
    "    'MergeflowNet-Api-Auth-Key': mergeflow_api_key\n",
    "}\n",
    "\n",
    "# Get and print the response\n",
    "response = requests.post(url, headers=headers)\n",
    "\n",
    "mergeflow_docs = []\n",
    "\n",
    "# Check the response status code and content\n",
    "if response.status_code == 200:\n",
    "    mergeflow_response_json = response.json()\n",
    "    \n",
    "    #pretty-print the JSON response -- useful to understand what the JSON looks like\n",
    "    #pretty_json = json.dumps(mergeflow_response_json, indent=4)\n",
    "    #print(pretty_json)\n",
    "    \n",
    "    # get title, URL, date, and content\n",
    "    for document in mergeflow_response_json['Documents']:\n",
    "        current_doc = {\n",
    "            'title': document['Title'],\n",
    "            'date': document['Date'],\n",
    "            'url': document['Url'],\n",
    "            'content': document['Content'][:5000]\n",
    "        }\n",
    "        \n",
    "        mergeflow_docs.append(current_doc)\n",
    "        #print(content)        \n",
    "\n",
    "    print('Found ' + str(len(mergeflow_docs)) + ' documents.')\n",
    "\n",
    "else:\n",
    "    print('Request failed with status code:', response.status_code)\n",
    "    print(response.text)  # Print the response text\n"
   ]
  },
  {
   "cell_type": "markdown",
   "id": "8be09112",
   "metadata": {},
   "source": [
    "# Answering questions on the results with OpenAI GPT"
   ]
  },
  {
   "cell_type": "code",
   "execution_count": 4,
   "id": "8e00c882",
   "metadata": {
    "ExecuteTime": {
     "end_time": "2024-02-19T15:23:24.197752Z",
     "start_time": "2024-02-19T15:21:55.302260Z"
    },
    "scrolled": false
   },
   "outputs": [
    {
     "name": "stdout",
     "output_type": "stream",
     "text": [
      "Problem:\n",
      "\n",
      "\"Robotic Revolution or Risk? Aniai's Leap into Automated Cooking Faces Production Puzzles\"\n",
      "\n",
      "As Aniai gears up with $12M funding to launch Factory One, the robotic cooking industry faces challenges of scalability, tech integration, and the balancing act between innovation and reliable supply chain management amidst global expansion ambitions.\n",
      "\n",
      "---\n",
      "\n",
      "Problem:\n",
      "\n",
      "\"Check-In to the Future: Automation's Next Hurdle in Hospitality\" \n",
      "\n",
      "Facing integration complexities and cybersecurity threats, the leap to fully automated guest services in hotels poses significant challenges. Businesses must balance technological advancements with personalized guest experiences, all while ensuring data protection and seamless operation across diverse systems.\n",
      "\n",
      "---\n",
      "\n",
      "Problem:\n",
      "\n",
      "\"Revolutionizing Medicine: The Hurdles Ahead for Cellares' $255M Automation Dream\" \n",
      "\n",
      "As Cellares propels forward with its $255M funding for Smart Factories, the journey teems with challenges: scaling up production while ensuring cGMP compliance, navigating the complex landscape of global regulations, and maintaining innovation in a rapidly evolving cell therapy sector.\n",
      "\n",
      "---\n",
      "\n",
      "Problem:\n",
      "\n",
      "\"Facing the Future: Terabase's $25M Leap into Solar Automation Sparks Discussion on Industry Hurdles\" - As Terabase Energy secures $25M to revolutionize solar construction with automation, questions arise about scalability, workforce adaptation, and integrating digital solutions in remote areas, setting the stage for a transformative yet challenging journey ahead.\n",
      "\n",
      "---\n",
      "\n",
      "Problem:\n",
      "\n",
      "\"Factory of Tomorrow Faces Data Dilemma: Navigating the Automation Revolution with Numbers Station's $17.5M Boost\"\n",
      "\n",
      "---\n",
      "\n"
     ]
    }
   ],
   "source": [
    "import openai\n",
    "\n",
    "openai.api_key = os.getenv('OPENAI_API_KEY')\n",
    "\n",
    "system_prompt = f\"\"\"You are Senior Press Editor for technology press. When you writting a news report, you strictly adhere to the following guiding principles:\n",
    "        - Focus on Sense&Act.\n",
    "        - Avoid homogeneous ideas\n",
    "        - Be creative and explorative in creating eye-catching headline\n",
    "        \"\"\"\n",
    "# Initialize an empty list to store problem messages\n",
    "problems_list = []\n",
    "\n",
    "for doc in mergeflow_docs:\n",
    "\n",
    "    user_prompt1 = f\"\"\"\n",
    "    Consider the text below, delimited by ```, in the area of {query}:\n",
    "    ```\n",
    "    {doc['content']}\n",
    "    ```\n",
    "\n",
    "    You want to write news report about what problems does future factory automation would face. Kindly follow these guidelines\n",
    "    - Generate a interesting headline\n",
    "    - Be realistic\n",
    "    - Do consider about challenges in business when making decision\n",
    "    - Keep it in 50 words\n",
    "    \n",
    "    \"\"\"\n",
    "    \n",
    "    completion = openai.chat.completions.create(\n",
    "        model=\"gpt-4-0125-preview\",\n",
    "        messages=[\n",
    "            {\"role\": \"system\", \"content\": system_prompt},\n",
    "            {\"role\": \"user\", \"content\": user_prompt1}\n",
    "        ],\n",
    "        temperature=0.7,\n",
    "        max_tokens=2000,\n",
    "        top_p=0.95,\n",
    "        frequency_penalty=0,\n",
    "        presence_penalty=0,\n",
    "        stop=None\n",
    "    )\n",
    "    \n",
    "    # Append the completion message content to the problems_list\n",
    "    problems_list.append(completion.choices[0].message.content)\n",
    "    \n",
    "    print(\"Problem:\\n\")\n",
    "    # This prints the content of the output in a more readable way\n",
    "    print(completion.choices[0].message.content)\n",
    "    print(\"\\n---\\n\")  # This adds a separator between the content blocks for readability"
   ]
  },
  {
   "cell_type": "code",
   "execution_count": 5,
   "id": "8b144738",
   "metadata": {
    "ExecuteTime": {
     "end_time": "2024-02-19T15:25:47.074270Z",
     "start_time": "2024-02-19T15:24:58.579334Z"
    }
   },
   "outputs": [
    {
     "name": "stdout",
     "output_type": "stream",
     "text": [
      "Problem rating:\n",
      "\n",
      "\"Robotic Revolution or Risk? Aniai's Leap into Automated Cooking Faces Production Puzzles\"\n",
      "\n",
      "- Size of user group: 2 (The automated cooking industry targets a medium-sized, growing user base.)\n",
      "- Relevancy of pain point: 3 (Scalability and tech integration are highly relevant to the factory automation sector.)\n",
      "- How specific is the problem: 2 (Challenges are somewhat specific to the robotic cooking industry, yet somewhat common in tech scale-ups.)\n",
      "\n",
      "Overall score: 7/9\n",
      "\n",
      "Justification: The issue strikes a chord in the automation sphere, affecting a substantial, though not universal, audience.\n",
      "\n",
      "---\n",
      "\n",
      "Problem rating:\n",
      "\n",
      "\"Check-In to the Future: Automation's Next Hurdle in Hospitality\"\n",
      "\n",
      "- Size of user group: 2 (Medium target group, as it specifically targets the hospitality industry.)\n",
      "- Relevancy of pain point: 3 (Very relevant to users, directly impacting hotel operations and guest satisfaction.)\n",
      "- How specific is the problem: 3 (Specific and not generic problem, addressing integration, cybersecurity, and personalized experiences in hospitality automation.)\n",
      "\n",
      "Overall score: 8/9. Integration, cybersecurity, and personalized service in automation are critical for the evolving hospitality industry.\n",
      "\n",
      "---\n",
      "\n",
      "Problem rating:\n",
      "\n",
      "\"Revolutionizing Medicine: The Hurdles Ahead for Cellares' $255M Automation Dream\"\n",
      "\n",
      "- Size of user group: 2 (The cell therapy sector, though growing, is still relatively niche.)\n",
      "- Relevancy of pain point: 3 (Highly relevant to the biotech and automation industry focusing on manufacturing and compliance.)\n",
      "- How specific is the problem: 3 (The challenge is specific to scaling, regulatory navigation, and innovation in cell therapy automation.)\n",
      "\n",
      "Overall score: 8\n",
      "\n",
      "Justification: The problem is highly specific and relevant to the cell therapy manufacturing sector, impacting a medium-sized user group.\n",
      "\n",
      "---\n",
      "\n",
      "Problem rating:\n",
      "\n",
      "Facing the Future: Terabase's $25M Leap into Solar Automation Sparks Discussion on Industry Hurdles\n",
      "\n",
      "- Size of user group: 2 (The solar energy sector is growing, but it's not as large as more generalized markets.)\n",
      "- Relevancy of pain point: 3 (Highly relevant as automation directly impacts efficiency and scalability in solar construction.)\n",
      "- How specific is the problem: 3 (The problem is specific to the solar construction industry and its unique challenges.)\n",
      "\n",
      "Overall score: 8/9\n",
      "\n",
      "Justification: Automation in solar construction is a niche yet expanding field, making this problem highly specific and relevant.\n",
      "\n",
      "---\n",
      "\n",
      "Problem rating:\n",
      "\n",
      "\"Factory of Tomorrow Faces Data Dilemma: Navigating the Automation Revolution with Numbers Station's $17.5M Boost\"\n",
      "\n",
      "- Size of user group: 2\n",
      "- Relevancy of pain point: 3\n",
      "- Specificity of the problem: 3\n",
      "\n",
      "Justification: Broad automation relevance, highly specific to industry needs, addressing a critical pain point in factory automation.\n",
      "\n",
      "Overall score: 8/9\n",
      "\n",
      "---\n",
      "\n"
     ]
    }
   ],
   "source": [
    "# second agent: \n",
    "\n",
    "# Now, iterate over problems_list to rate each problem\n",
    "rated_problems_list = []\n",
    "for problem in problems_list:\n",
    "    user_prompt2 = f\"\"\"\n",
    "    Before you give me any output, please rate the problems according to the following criteria. Please be very critical in your ratings and only give a 3 rating when it is exceptionally good:\n",
    "        - Size of user group (how many of the mentioned customers exist) (1 = small target group, 2 = medium target group, 3 = large target group)\n",
    "        - Relevancy of pain point to the specific industry of {query} and the respective user group (e.g., patty not relevant for factory automation) (1 = not relevant to users, 2 = medium relevant to users, 3 = very relevant to users)\n",
    "        - How specific is the problem? (1 = very generic problem, 2 = medium generic, 3 = specific and not generic problem)\n",
    "\n",
    "    Given the problem:\n",
    "    {problem}\n",
    "\n",
    "    Please repeat the name of the problem and then output the ratings and a one-sentence justification (max 20 words).\n",
    "    Add up the three ratings you gave to an overall score out of 9.\n",
    "    \n",
    "    \"\"\"\n",
    "    \n",
    "    completion = openai.chat.completions.create(\n",
    "        model=\"gpt-4-0125-preview\",\n",
    "        messages=[\n",
    "            {\"role\": \"system\", \"content\": system_prompt},\n",
    "            {\"role\": \"user\", \"content\": user_prompt2}\n",
    "        ],\n",
    "        temperature=0.7,\n",
    "        max_tokens=2000,\n",
    "        top_p=0.95,\n",
    "        frequency_penalty=0,\n",
    "        presence_penalty=0,\n",
    "        stop=None\n",
    "    )\n",
    "    \n",
    "    # Assume we store the rated problem details for later use\n",
    "    rated_problems_list.append(completion.choices[0].message.content)\n",
    "\n",
    "    # Print the rated problem for immediate feedback\n",
    "    print(\"Problem rating:\\n\")\n",
    "    print(completion.choices[0].message.content)\n",
    "    print(\"\\n---\\n\")\n"
   ]
  },
  {
   "cell_type": "code",
   "execution_count": null,
   "id": "ecbe0a96",
   "metadata": {
    "ExecuteTime": {
     "end_time": "2024-02-19T15:29:22.217519Z",
     "start_time": "2024-02-19T15:29:06.381935Z"
    }
   },
   "outputs": [],
   "source": [
    "# third agent to give best problem \n",
    "\n",
    "user_prompt3 = f\"\"\"\n",
    "\n",
    "    Consider the following problems: {problems_list}\n",
    "    Consider the corresponding ratings: {rated_problems_list}\n",
    "    \n",
    "   Please output the problem with the highest overall rating in the {rated_problems_list}, including the following bullet points: \n",
    "       - \"Title\": Title of the problem in max 5 words. \n",
    "        - \"Explanation\": The problem (please write 100-150 words)\n",
    "        - \"User group\": Which user group is impacted by this problem the most (please write 10-30 words)\n",
    "        - \"Pain point\": What is the specific pain point for this user group resulting from the problem (please write 40-50 words)\n",
    " \n",
    "    \"\"\"\n",
    "    \n",
    "completion = openai.chat.completions.create(\n",
    "        model=\"gpt-4-0125-preview\",\n",
    "        messages=[\n",
    "            {\"role\": \"system\", \"content\": system_prompt},\n",
    "            {\"role\": \"user\", \"content\": user_prompt3}\n",
    "        ],\n",
    "        temperature=0.7,\n",
    "        max_tokens=2000,\n",
    "        top_p=0.95,\n",
    "        frequency_penalty=0,\n",
    "        presence_penalty=0,\n",
    "        stop=None\n",
    "    )\n",
    "\n",
    "\n",
    "# Print the rated problem for immediate feedback\n",
    "print(completion.choices[0].message.content)\n",
    "print(\"\\n---\\n\")\n",
    "\n",
    "\n"
   ]
  },
  {
   "cell_type": "code",
   "execution_count": null,
   "id": "f19516ab",
   "metadata": {
    "ExecuteTime": {
     "end_time": "2024-02-15T11:07:39.614919Z",
     "start_time": "2024-02-15T11:07:18.884085Z"
    }
   },
   "outputs": [],
   "source": []
  }
 ],
 "metadata": {
  "kernelspec": {
   "display_name": "Python 3 (ipykernel)",
   "language": "python",
   "name": "python3"
  },
  "language_info": {
   "codemirror_mode": {
    "name": "ipython",
    "version": 3
   },
   "file_extension": ".py",
   "mimetype": "text/x-python",
   "name": "python",
   "nbconvert_exporter": "python",
   "pygments_lexer": "ipython3",
   "version": "3.11.5"
  },
  "toc": {
   "base_numbering": 1,
   "nav_menu": {},
   "number_sections": true,
   "sideBar": true,
   "skip_h1_title": false,
   "title_cell": "Table of Contents",
   "title_sidebar": "Contents",
   "toc_cell": false,
   "toc_position": {},
   "toc_section_display": true,
   "toc_window_display": false
  }
 },
 "nbformat": 4,
 "nbformat_minor": 5
}
