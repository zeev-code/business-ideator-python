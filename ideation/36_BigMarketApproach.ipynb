{
 "cells": [
  {
   "cell_type": "code",
   "execution_count": 1,
   "id": "bc869ab3",
   "metadata": {},
   "outputs": [
    {
     "name": "stdout",
     "output_type": "stream",
     "text": [
      "Requirement already satisfied: python-dotenv in /Users/johannesluetzenrath/anaconda3/lib/python3.11/site-packages (0.21.0)\n",
      "Requirement already satisfied: openai in /Users/johannesluetzenrath/anaconda3/lib/python3.11/site-packages (1.8.0)\n",
      "Requirement already satisfied: anyio<5,>=3.5.0 in /Users/johannesluetzenrath/anaconda3/lib/python3.11/site-packages (from openai) (3.5.0)\n",
      "Requirement already satisfied: distro<2,>=1.7.0 in /Users/johannesluetzenrath/anaconda3/lib/python3.11/site-packages (from openai) (1.9.0)\n",
      "Requirement already satisfied: httpx<1,>=0.23.0 in /Users/johannesluetzenrath/anaconda3/lib/python3.11/site-packages (from openai) (0.26.0)\n",
      "Requirement already satisfied: pydantic<3,>=1.9.0 in /Users/johannesluetzenrath/anaconda3/lib/python3.11/site-packages (from openai) (1.10.8)\n",
      "Requirement already satisfied: sniffio in /Users/johannesluetzenrath/anaconda3/lib/python3.11/site-packages (from openai) (1.2.0)\n",
      "Requirement already satisfied: tqdm>4 in /Users/johannesluetzenrath/anaconda3/lib/python3.11/site-packages (from openai) (4.65.0)\n",
      "Requirement already satisfied: typing-extensions<5,>=4.7 in /Users/johannesluetzenrath/anaconda3/lib/python3.11/site-packages (from openai) (4.7.1)\n",
      "Requirement already satisfied: idna>=2.8 in /Users/johannesluetzenrath/anaconda3/lib/python3.11/site-packages (from anyio<5,>=3.5.0->openai) (3.4)\n",
      "Requirement already satisfied: certifi in /Users/johannesluetzenrath/anaconda3/lib/python3.11/site-packages (from httpx<1,>=0.23.0->openai) (2023.11.17)\n",
      "Requirement already satisfied: httpcore==1.* in /Users/johannesluetzenrath/anaconda3/lib/python3.11/site-packages (from httpx<1,>=0.23.0->openai) (1.0.2)\n",
      "Requirement already satisfied: h11<0.15,>=0.13 in /Users/johannesluetzenrath/anaconda3/lib/python3.11/site-packages (from httpcore==1.*->httpx<1,>=0.23.0->openai) (0.14.0)\n"
     ]
    }
   ],
   "source": [
    "!pip install python-dotenv\n",
    "!pip install openai"
   ]
  },
  {
   "cell_type": "markdown",
   "id": "eeb91447",
   "metadata": {},
   "source": [
    "# Getting data from Mergeflow's API"
   ]
  },
  {
   "cell_type": "code",
   "execution_count": 20,
   "id": "31aea093",
   "metadata": {},
   "outputs": [
    {
     "name": "stdout",
     "output_type": "stream",
     "text": [
      "Found 3 documents.\n"
     ]
    }
   ],
   "source": [
    "import requests\n",
    "import json\n",
    "import os\n",
    "from dotenv import load_dotenv\n",
    "\n",
    "load_dotenv()  # Load variables from .env file\n",
    "mergeflow_api_key = os.getenv('MERGEFLOW_API_KEY')\n",
    "\n",
    "# the API call\n",
    "query = 'Factory+Automation' # topic is \"large language model\"\n",
    "dataset = '&q=*[MarketSize]' # dataset: Tech blogs\n",
    "rows = str(3) # first 3 docs only\n",
    "\n",
    "# in the url below, replace \"fw\" by your user name. You can see your user name at mergeflow.net\n",
    "# -> Account -> the string in angle brackets\n",
    "url = 'https://mergeflow.net/api/v1/lutzenrath/search/getContent?q=' + query + dataset + '&rows=' + rows\n",
    "\n",
    "# Define the headers to be sent with the request\n",
    "headers = {\n",
    "    'MergeflowNet-Api-Auth-Key': mergeflow_api_key\n",
    "}\n",
    "\n",
    "# Get and print the response\n",
    "response = requests.post(url, headers=headers)\n",
    "\n",
    "mergeflow_docs = []\n",
    "\n",
    "# Check the response status code and content\n",
    "if response.status_code == 200:\n",
    "    mergeflow_response_json = response.json()\n",
    "    \n",
    "    # Pretty-print the JSON response -- useful to understand what the JSON looks like\n",
    "    #pretty_json = json.dumps(mergeflow_response_json, indent=4)\n",
    "    #print(pretty_json)\n",
    "    \n",
    "    # get title, URL, date, and content\n",
    "    for document in mergeflow_response_json['Documents']:\n",
    "        current_doc = {\n",
    "            'title': document['Title'],\n",
    "            'date': document['Date'],\n",
    "            'url': document['Url'],\n",
    "            'content': document['Content'][:5000]\n",
    "        }\n",
    "        \n",
    "        mergeflow_docs.append(current_doc)\n",
    "        #print(current_doc['content'])        \n",
    "\n",
    "    print('Found ' + str(len(mergeflow_docs)) + ' documents.')\n",
    "\n",
    "else:\n",
    "    print('Request failed with status code:', response.status_code)\n",
    "    print(response.text)  # Print the response text\n"
   ]
  },
  {
   "cell_type": "markdown",
   "id": "8be09112",
   "metadata": {},
   "source": [
    "# Answering questions on the results with OpenAI GPT"
   ]
  },
  {
   "cell_type": "code",
   "execution_count": 21,
   "id": "8e00c882",
   "metadata": {},
   "outputs": [
    {
     "name": "stdout",
     "output_type": "stream",
     "text": [
      "ChatCompletionMessage(content='Based on the information provided, the three markets with the largest CAGR in the Smart Factory industry are:\\n1. Industrial IoT (IIoT) - Opportunities: AI-based predictive maintenance solutions, IIoT platforms for data analytics, and AI-powered quality control systems. Rank: 3 (good) - high growth potential and aligns with AI as a potential product.\\n2. Machine Learning (ML) - Opportunities: ML algorithms for demand forecasting, ML-based optimization of production processes, and ML-powered defect detection systems. Rank: 3 (good) - high growth potential and aligns with AI as a potential product.\\n3. Industry 4.0 - Opportunities: Cloud-based automation systems, robotic process automation (RPA) solutions, and digital twin technology for virtual simulation. Rank: 2 (average) - moderate growth potential and may require more investment in ecosystem creation.', role='assistant', function_call=None, tool_calls=None)\n",
      "ChatCompletionMessage(content='Based on the provided information, the three markets with the largest CAGR in the Industry 4.0 sector are: Machine Learning, Internet of Things (IoT), and 3D Printing. Here are the business opportunities in those markets, ranked from 1 (bad) to 3 (good):\\n\\n1. Machine Learning: Develop AI-powered predictive maintenance solutions for manufacturing equipment. (Rank: 3) - This opportunity aligns with the guiding principles of prioritizing AI as a potential product and targeting large profits with smaller budgets. It addresses the need for predictive analytics in Industry 4.0 and has the potential for scalability.\\n\\n2. Internet of Things (IoT): Provide IoT connectivity solutions for real-time data collection and analysis in manufacturing processes. (Rank: 2) - This opportunity aligns with the guiding principles of prioritizing quick, low-investment idea testing and targeting a minimum 10 million EUR annual revenue. However, it may require more investment compared to the first opportunity.\\n\\n3. 3D Printing: Develop advanced 3D printing technologies for precision, speed, and scalability across industries. (Rank: 2) - This opportunity aligns with the guiding principles of prioritizing product over solution business for scalability and targeting a minimum 10 million EUR annual revenue. However, it may require higher investment compared to the first two opportunities.\\n\\nReasoning: The first opportunity in Machine Learning has the potential to generate large profits with a smaller budget while addressing the need for predictive analytics in Industry 4.0. The second and third opportunities in IoT and 3D Printing align with the guiding principles but may require higher investment compared to the first opportunity, hence their slightly lower ranking.', role='assistant', function_call=None, tool_calls=None)\n",
      "ChatCompletionMessage(content='Based on the provided text, the three markets with the largest CAGR are:\\n\\n1. Life Sciences Tools Industry: Opportunities include integrating generative AI into tools used by companies like Azenta, Intuitive Surgical, and Illumina. (Rank: 3 - Good)\\n\\n2. Industrial Automation: Companies like Rockwell Automation, Fanuc Corp, and Keyence Corp can benefit from increased prevalence of AI in industrial applications, leading to improved automation and competitiveness. (Rank: 2 - Average)\\n\\n3. Generative AI Market: With a projected CAGR of 47.5%, there are significant growth opportunities in this market, especially in the areas of industrial automation and robotics. (Rank: 3 - Good)', role='assistant', function_call=None, tool_calls=None)\n"
     ]
    }
   ],
   "source": [
    "import openai\n",
    "\n",
    "openai.api_key = os.getenv('OPENAI_API_KEY')\n",
    "\n",
    "system_prompt = f\"\"\"You are Senior Vice President Technology and Innovation & CTO of Factory Automation. When you evaluate a new business idea, you strictly adhere to the following guiding principles:\n",
    "        - Prioritize quick, low-investment idea testing.\n",
    "        - Aim for large profits with smaller budgets, avoiding investments over 10-15 million per portfolio element.\n",
    "        - Target a minimum 10 million EUR annual revenue.\n",
    "        - Avoid new ecosystem creation.\n",
    "        - Prioritize product over solution business for scalability.\n",
    "        - Consider AI as a potential product.\n",
    "        - Ensure all initiatives align with business profitability.\n",
    "        - Make investment decisions as if using personal funds.\n",
    "        - Aim for non-cannibalizing, fringe markets.\n",
    "        \"\"\"\n",
    "\n",
    "for doc in mergeflow_docs:\n",
    "    user_prompt = f\"\"\"\n",
    "    Consider the text below, delimited by ```, in the area of {query}:\n",
    "    ```\n",
    "    {doc['content']}\n",
    "    ```\n",
    "    Focus on the three markets with the largest CAGR. Come up with business opportunities in those markets and rank them on a scale from 1 (bad) to 3(good). Explain your reasoning in 30 words or less.\n",
    "    \n",
    "    \"\"\"\n",
    "    \n",
    "    completion = openai.chat.completions.create(\n",
    "        model=\"gpt-3.5-turbo-0613\",\n",
    "        messages=[\n",
    "            {\"role\": \"system\", \"content\": system_prompt},\n",
    "            {\"role\": \"user\", \"content\": user_prompt}\n",
    "        ],\n",
    "        temperature=0.7,\n",
    "        max_tokens=2000,\n",
    "        top_p=0.95,\n",
    "        frequency_penalty=0,\n",
    "        presence_penalty=0,\n",
    "        stop=None\n",
    "    )\n",
    "\n",
    "    print(completion.choices[0].message)"
   ]
  },
  {
   "cell_type": "code",
   "execution_count": null,
   "id": "0a124fcb",
   "metadata": {},
   "outputs": [],
   "source": []
  }
 ],
 "metadata": {
  "kernelspec": {
   "display_name": "Python 3 (ipykernel)",
   "language": "python",
   "name": "python3"
  },
  "language_info": {
   "codemirror_mode": {
    "name": "ipython",
    "version": 3
   },
   "file_extension": ".py",
   "mimetype": "text/x-python",
   "name": "python",
   "nbconvert_exporter": "python",
   "pygments_lexer": "ipython3",
   "version": "3.11.5"
  }
 },
 "nbformat": 4,
 "nbformat_minor": 5
}
